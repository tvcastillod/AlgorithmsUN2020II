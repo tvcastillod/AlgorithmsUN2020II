{
  "nbformat": 4,
  "nbformat_minor": 0,
  "metadata": {
    "colab": {
      "name": "BruteForce.ipynb",
      "provenance": []
    },
    "kernelspec": {
      "name": "python3",
      "display_name": "Python 3"
    }
  },
  "cells": [
    {
      "cell_type": "markdown",
      "metadata": {
        "id": "9D7Wd2RME2av"
      },
      "source": [
        "# **LAB 11 A – Ehab, subset sum and eight queens problems**"
      ]
    },
    {
      "cell_type": "markdown",
      "metadata": {
        "id": "tpj4qPyoE8JV"
      },
      "source": [
        "**1.** Solve  Problem A – Ehab and another construction problem  from Complete Search in Vjudge and in Colab\r\n"
      ]
    },
    {
      "cell_type": "markdown",
      "metadata": {
        "id": "MwzVD2RuFBSq"
      },
      "source": [
        "Using brute force,\r\n"
      ]
    },
    {
      "cell_type": "code",
      "metadata": {
        "colab": {
          "base_uri": "https://localhost:8080/"
        },
        "id": "sbWt_35UFUQF",
        "outputId": "e0b7c450-042b-425a-8365-7804112e04bd"
      },
      "source": [
        "x = int(input()) \r\n",
        "flag = False\r\n",
        "for a in range(1, x + 1):\r\n",
        "  for b in range(1, x + 1):\r\n",
        "    if a%b == 0 and a*b > x and a/b < x :\r\n",
        "      print(a, b)\r\n",
        "      flag = True\r\n",
        "      break\r\n",
        "  if flag:\r\n",
        "    break\r\n",
        "if not flag:\r\n",
        "  print(-1)"
      ],
      "execution_count": 1,
      "outputs": [
        {
          "output_type": "stream",
          "text": [
            "12\n",
            "4 4\n"
          ],
          "name": "stdout"
        }
      ]
    },
    {
      "cell_type": "markdown",
      "metadata": {
        "id": "NoEAeUb6FC2f"
      },
      "source": [
        "Using a better search"
      ]
    },
    {
      "cell_type": "code",
      "metadata": {
        "colab": {
          "base_uri": "https://localhost:8080/"
        },
        "id": "uxL4dt1CFmLi",
        "outputId": "2d6a0018-7722-43c6-f6f0-c4862fb386ee"
      },
      "source": [
        "def betterSerach(x):\r\n",
        "  if (x < 1):\r\n",
        "    return\r\n",
        "  else:\r\n",
        "    a=1\r\n",
        "    while (a<x+1): \r\n",
        "      b = 2;\r\n",
        "      while (b <= x):\r\n",
        "        if (a%b == 0):\r\n",
        "          condition2 = (a*b) > x\r\n",
        "          condition3 = (a/b) < x\r\n",
        "          if (condition2 and condition3):\r\n",
        "            print(a,b)\r\n",
        "            return\r\n",
        "        b += 1; \r\n",
        "      a=a+1     \r\n",
        "  print(-1)\r\n",
        "  return\r\n",
        "\r\n",
        "n = int(input())\r\n",
        "betterSerach(n)"
      ],
      "execution_count": 2,
      "outputs": [
        {
          "output_type": "stream",
          "text": [
            "20\n",
            "5 5\n"
          ],
          "name": "stdout"
        }
      ]
    },
    {
      "cell_type": "markdown",
      "metadata": {
        "id": "R0546DilFFYl"
      },
      "source": [
        "Using the two one step forms\r\n",
        "\r\n",
        "\r\n",
        "*   x x\r\n",
        "*   \r\n",
        "```\r\n",
        "if ( floor(x/2)+1 % 2== 0)\r\n",
        "floor(x/2)+1   2\r\n",
        "else\r\n",
        "floor(x/2)+2 2\r\n",
        "In Colab include an image with group’s first member’s id fo the solutions in colab.\r\n",
        "```\r\n",
        "\r\n",
        "\r\n",
        "\r\n"
      ]
    },
    {
      "cell_type": "code",
      "metadata": {
        "colab": {
          "base_uri": "https://localhost:8080/"
        },
        "id": "qip376ydFsyk",
        "outputId": "b1a2c606-833f-4fb4-83f0-b5c665921c48"
      },
      "source": [
        "x = int(input())\r\n",
        "if (x == 1):\r\n",
        "  print(-1)\r\n",
        "else:\r\n",
        "  print(x, x)"
      ],
      "execution_count": 3,
      "outputs": [
        {
          "output_type": "stream",
          "text": [
            "3\n",
            "3 3\n"
          ],
          "name": "stdout"
        }
      ]
    },
    {
      "cell_type": "code",
      "metadata": {
        "colab": {
          "base_uri": "https://localhost:8080/"
        },
        "id": "rnJZ9ge_Fs6J",
        "outputId": "d55d3dba-6e9e-4912-b626-cb837c151564"
      },
      "source": [
        "import math\r\n",
        " \r\n",
        "x = int(input())\r\n",
        "if x == 1:\r\n",
        "  print(-1)\r\n",
        "else:\r\n",
        "  if math.floor(x / 2) % 2 == 0:\r\n",
        "    print(math.floor(x / 2 ) + 2, 2)\r\n",
        "  else:\r\n",
        "    print(math.floor(x / 2) + 1, 2)"
      ],
      "execution_count": 4,
      "outputs": [
        {
          "output_type": "stream",
          "text": [
            "10\n",
            "6 2\n"
          ],
          "name": "stdout"
        }
      ]
    },
    {
      "cell_type": "markdown",
      "metadata": {
        "id": "4ANXXm4sGr0S"
      },
      "source": [
        "<img src=\"https://raw.githubusercontent.com/tvcastillod/AlgorithmsUN2020II/master/Vjudge.png\"/>"
      ]
    },
    {
      "cell_type": "markdown",
      "metadata": {
        "id": "V7qeMNG0GH3n"
      },
      "source": [
        "**2.** Solve the Subset Sum Problem github\r\n",
        "Using brute force bruteforce.py\r\n",
        "For n=10,20,30,50,100,1000 and report when in Colab you run out of memory"
      ]
    },
    {
      "cell_type": "code",
      "metadata": {
        "colab": {
          "base_uri": "https://localhost:8080/"
        },
        "id": "CMtdeeL73azG",
        "outputId": "e39d2ffa-4a8d-4202-b734-e81ba45c117b"
      },
      "source": [
        "pip install decorator"
      ],
      "execution_count": 5,
      "outputs": [
        {
          "output_type": "stream",
          "text": [
            "Requirement already satisfied: decorator in /usr/local/lib/python3.6/dist-packages (4.4.2)\n"
          ],
          "name": "stdout"
        }
      ]
    },
    {
      "cell_type": "code",
      "metadata": {
        "colab": {
          "base_uri": "https://localhost:8080/"
        },
        "id": "JegFy1Tv74sW",
        "outputId": "fae91439-bf28-434f-bcc1-f0bd673d007c"
      },
      "source": [
        "pip install timeout-decorator"
      ],
      "execution_count": 6,
      "outputs": [
        {
          "output_type": "stream",
          "text": [
            "Requirement already satisfied: timeout-decorator in /usr/local/lib/python3.6/dist-packages (0.5.0)\n"
          ],
          "name": "stdout"
        }
      ]
    },
    {
      "cell_type": "code",
      "metadata": {
        "id": "sZW8_oC83P3Z"
      },
      "source": [
        "from decorator import decorator\r\n",
        "import itertools\r\n",
        "import time\r\n",
        "import timeout_decorator\r\n",
        "\r\n",
        "@timeout_decorator.timeout(5 * 60)\r\n",
        "def bruteforce(x_list, target):\r\n",
        "    possiblities = []\r\n",
        "    for x in powerset(x_list):\r\n",
        "        possiblities.append((x, sum(x)))\r\n",
        "\r\n",
        "    x_list, actual_value = closest(possiblities, target)\r\n",
        "\r\n",
        "    return (actual_value, x_list)\r\n",
        "\r\n",
        "\r\n",
        "def powerset(iterable):\r\n",
        "    '''powerset([1,2,3]) --> () (1,) (2,) (3,) (1,2) (1,3) (2,3) (1,2,3)\r\n",
        "    http://docs.python.org/library/itertools.html#recipes\r\n",
        "    '''\r\n",
        "    s = list(iterable)\r\n",
        "    return itertools.chain.from_iterable(itertools.combinations(s, r) for r in range(len(s) + 1))\r\n",
        "\r\n",
        "\r\n",
        "def closest(possiblities, target):\r\n",
        "    '''Modified from http://stackoverflow.com/questions/445782/finding-closest-match-in-collection-of-numbers/445824#445824'''\r\n",
        "    return min((abs(target - total), (o_list, total))\r\n",
        "               for o_list, total in possiblities)[1]"
      ],
      "execution_count": 7,
      "outputs": []
    },
    {
      "cell_type": "code",
      "metadata": {
        "colab": {
          "base_uri": "https://localhost:8080/"
        },
        "id": "qQ2-jgqi7E-T",
        "outputId": "8a840163-d785-4cd3-8f86-0b98d56841a9"
      },
      "source": [
        "x10_list = [100, 75, 15, 495, 995, 995, 995, 995, 510, 110]\r\n",
        "target = 635\r\n",
        "\r\n",
        "bruteforce(x10_list, target)"
      ],
      "execution_count": 8,
      "outputs": [
        {
          "output_type": "execute_result",
          "data": {
            "text/plain": [
              "(635, (15, 510, 110))"
            ]
          },
          "metadata": {
            "tags": []
          },
          "execution_count": 8
        }
      ]
    },
    {
      "cell_type": "code",
      "metadata": {
        "colab": {
          "base_uri": "https://localhost:8080/"
        },
        "id": "_1uQ39v57G1Q",
        "outputId": "c7d82a59-2d1f-4dc2-ddb6-5fe630f3603e"
      },
      "source": [
        "x20_list = [1150, 495, 995, 995, 995, 995, 100, 750, 3305, 75, 510, 1935, 140, 140, 1330, 2800, 1250, 350, 850, 110]\r\n",
        "target = 8270\r\n",
        "\r\n",
        "bruteforce(x20_list, target)"
      ],
      "execution_count": 9,
      "outputs": [
        {
          "output_type": "execute_result",
          "data": {
            "text/plain": [
              "(8270, (100, 750, 75, 510, 1935, 2800, 1250, 850))"
            ]
          },
          "metadata": {
            "tags": []
          },
          "execution_count": 9
        }
      ]
    },
    {
      "cell_type": "markdown",
      "metadata": {
        "id": "T2XXUFksBBaY"
      },
      "source": [
        "with n = 30 it runs out of memory "
      ]
    },
    {
      "cell_type": "code",
      "metadata": {
        "id": "cN2QaCEH8ve4"
      },
      "source": [
        "# si se ejecuta, como se genera el error de memoria, se reinicia el entorno\r\n",
        "x30_list = [1150, 495, 995, 995, 995, 995, 100, 750, 3305, 2819, 1234, 8172, 254, 1728, 19, 29, 1273, 2763, 1653, 75, 510, 1935, 140, 140, 1330, 2800, 1250, 350, 850, 110]\r\n",
        "target = 8270\r\n",
        "\r\n",
        "bruteforce(x30_list, target)"
      ],
      "execution_count": null,
      "outputs": []
    },
    {
      "cell_type": "markdown",
      "metadata": {
        "id": "ke8lfyIYBEHi"
      },
      "source": [
        "from n = 26 it starts to run out of memory "
      ]
    },
    {
      "cell_type": "code",
      "metadata": {
        "id": "rbBHu8GK-fw8"
      },
      "source": [
        "x26_list = [1150, 495, 995, 995, 995, 263, 2819, 1234, 1728, 19, 29, 1273, 2763, 1653, 75, 510, 1935, 140, 2345, 140, 1330, 2800, 1250, 350, 850, 110]\r\n",
        "target = 8270\r\n",
        "\r\n",
        "bruteforce(x26_list, target)"
      ],
      "execution_count": null,
      "outputs": []
    },
    {
      "cell_type": "markdown",
      "metadata": {
        "id": "TD2rpAaBKwLa"
      },
      "source": [
        "<img src=\"https://raw.githubusercontent.com/tvcastillod/AlgorithmsUN2020II/master/SSP.png\"/>"
      ]
    },
    {
      "cell_type": "markdown",
      "metadata": {
        "id": "B6XrskaAGU4N"
      },
      "source": [
        "**3.** Solve the eight queens problem in colab"
      ]
    },
    {
      "cell_type": "markdown",
      "metadata": {
        "id": "ADWr6dOuGZ8u"
      },
      "source": [
        "Se implementaron dos algoritmos, uno de búsqueda completa y otro de backtracking"
      ]
    },
    {
      "cell_type": "markdown",
      "metadata": {
        "id": "wkg7A4QYK16K"
      },
      "source": [
        "Como el primer algoritmo es en lenguaje C++ se deben realizar unos ajustes al entorno de ejecución para poder correr el programa"
      ]
    },
    {
      "cell_type": "code",
      "metadata": {
        "id": "bhLHiZ0HOK48"
      },
      "source": [
        "!apt-get --purge remove cuda nvidia* libnvidia-*\r\n",
        "!dpkg -l | grep cuda- | awk '{print $2}' | xargs -n1 dpkg --purge\r\n",
        "!apt-get remove cuda-*\r\n",
        "!apt autoremove\r\n",
        "!apt-get update"
      ],
      "execution_count": null,
      "outputs": []
    },
    {
      "cell_type": "code",
      "metadata": {
        "id": "5j7O6ldSO39y"
      },
      "source": [
        "!wget https://developer.nvidia.com/compute/cuda/9.2/Prod/local_installers/cuda-repo-ubuntu1604-9-2-local_9.2.88-1_amd64 -O cuda-repo-ubuntu1604-9-2-local_9.2.88-1_amd64.deb\r\n",
        "!dpkg -i cuda-repo-ubuntu1604-9-2-local_9.2.88-1_amd64.deb\r\n",
        "!apt-key add /var/cuda-repo-9-2-local/7fa2af80.pub\r\n",
        "!apt-get update\r\n",
        "!apt-get install cuda-9.2"
      ],
      "execution_count": null,
      "outputs": []
    },
    {
      "cell_type": "code",
      "metadata": {
        "id": "p8n9yF7LRFSI"
      },
      "source": [
        "!nvcc --version"
      ],
      "execution_count": null,
      "outputs": []
    },
    {
      "cell_type": "code",
      "metadata": {
        "id": "NW8ruBTtS3tQ"
      },
      "source": [
        "!pip install git+git://github.com/andreinechaev/nvcc4jupyter.git"
      ],
      "execution_count": null,
      "outputs": []
    },
    {
      "cell_type": "code",
      "metadata": {
        "id": "vo-aH-VYS9wf"
      },
      "source": [
        "%load_ext nvcc_plugin"
      ],
      "execution_count": null,
      "outputs": []
    },
    {
      "cell_type": "markdown",
      "metadata": {
        "id": "sHJvdnaDAsK8"
      },
      "source": [
        "**Algorithms in C++ Complete Search, Greedy, Divide and Conquer, Dynamic Programming towardsdatascience**\r\n",
        "\r\n",
        "source code taken from: https://towardsdatascience.com/algorithms-in-c-62b607a6131d#:~:text=Complete%20search%20\r\n",
        "\r\n",
        "Se usó el algoritmo de *Complete Search*"
      ]
    },
    {
      "cell_type": "code",
      "metadata": {
        "colab": {
          "base_uri": "https://localhost:8080/"
        },
        "id": "IgQjP6J6TB9J",
        "outputId": "bf53e3ee-0dd7-4986-960b-198cd15d9c98"
      },
      "source": [
        "%%cu\r\n",
        "#include <cstdlib>\r\n",
        "#include <cstdio>\r\n",
        "#include <cstring>\r\n",
        "#include <chrono>\r\n",
        "\r\n",
        "using namespace std; \r\n",
        "//row[8]: row # for each queen\r\n",
        "//TC: traceback counter\r\n",
        "//(a, b): 1st queen placement at (r=a, c=b)\r\n",
        "int row[8], TC, a, b, line_counter; \r\n",
        "bool place(int r, int c)\r\n",
        "{   \r\n",
        "    // check previously placed queens \r\n",
        "    for (int prev = 0; prev < c; prev++) \r\n",
        "    { \r\n",
        "        // check if same row or same diagonal\r\n",
        "        if (row[prev] == r || (abs(row[prev] - r) == abs(prev - c)))\r\n",
        "            return false; \r\n",
        "    }\r\n",
        "    return true;\r\n",
        "}\r\n",
        "void backtrack(int c)\r\n",
        "{\r\n",
        "    // candidate solution; (a, b) has 1 initial queen\r\n",
        "    if (c == 8 && row[b] == a) \r\n",
        "    { \r\n",
        "        printf(\"%2d %d\", ++line_counter, row[0] + 1); \r\n",
        "        for (int j=1; j < 8; j++) {printf(\" %d\", row[j] + 1);}    \r\n",
        "        printf(\"\\n\");\r\n",
        "    }\r\n",
        "    //try all possible rows \r\n",
        "    for (int r = 0; r < 8; r++)\r\n",
        "    {\r\n",
        "        if (place(r, c))\r\n",
        "        {\r\n",
        "            row[c] = r; // place a queen at this col and row   \r\n",
        "            backtrack(c + 1); //increment col and recurse\r\n",
        "        }\r\n",
        "    }\r\n",
        "}\r\n",
        "int main() \r\n",
        "{  \r\n",
        "     //scanf(\"%d\", &TC);\r\n",
        "     int TC = 8;\r\n",
        "     int a = 1;\r\n",
        "     int b = 1;  \r\n",
        "     while (TC--) \r\n",
        "     { \r\n",
        "        scanf(\"%d %d\", &a, &b); a--; b--; //0-based indexing    \r\n",
        "        memset(row, 0, sizeof(row)); line_counter = 0;\r\n",
        "        printf(\"SOLN COLUMN\\n\");\r\n",
        "        printf(\" # 1 2 3 4 5 6 7 8\\n\\n\");\r\n",
        "        backtrack(0); //generate all possible 8! candidate solutions    \r\n",
        "        if (TC) printf(\"\\n\");\r\n",
        "        break;\r\n",
        "     }\r\n",
        "     return 0;\r\n",
        "}\r\n",
        "\r\n",
        "//For TC=8 and an initial queen position at (a,b) = (1,1) the above code results\r\n",
        "//in the following output: which indicates that there are four possible placements\r\n",
        "//given the initial queen position at (r=1,c=1)"
      ],
      "execution_count": 16,
      "outputs": [
        {
          "output_type": "stream",
          "text": [
            "SOLN COLUMN\n",
            " # 1 2 3 4 5 6 7 8\n",
            "\n",
            " 1 1 5 8 6 3 7 2 4\n",
            " 2 1 6 8 3 7 4 2 5\n",
            " 3 1 7 4 6 8 2 5 3\n",
            " 4 1 7 5 8 2 4 6 3\n",
            "\n",
            "\n"
          ],
          "name": "stdout"
        }
      ]
    },
    {
      "cell_type": "markdown",
      "metadata": {
        "id": "8c-B6O7yBYmD"
      },
      "source": [
        "**N Queen Problem | Backtracking-3** \r\n",
        "\r\n",
        "source code taken from: https://www.geeksforgeeks.org/n-queen-problem-backtracking-3/\r\n",
        "\r\n",
        "La solución se halla usando *Backtracking*"
      ]
    },
    {
      "cell_type": "code",
      "metadata": {
        "colab": {
          "base_uri": "https://localhost:8080/"
        },
        "id": "CTeaf3hkBWuD",
        "outputId": "4a086eef-deec-4435-a45f-1c56e9ea19a3"
      },
      "source": [
        "# Python3 program to solve N Queen  \r\n",
        "# Problem using backtracking \r\n",
        "global N \r\n",
        "N = 8\r\n",
        "  \r\n",
        "def printSolution(board): \r\n",
        "    for i in range(N): \r\n",
        "        for j in range(N): \r\n",
        "            print (board[i][j], end = \" \") \r\n",
        "        print() \r\n",
        "  \r\n",
        "# A utility function to check if a queen can \r\n",
        "# be placed on board[row][col]. Note that this \r\n",
        "# function is called when \"col\" queens are \r\n",
        "# already placed in columns from 0 to col -1. \r\n",
        "# So we need to check only left side for \r\n",
        "# attacking queens \r\n",
        "def isSafe(board, row, col): \r\n",
        "  \r\n",
        "    # Check this row on left side \r\n",
        "    for i in range(col): \r\n",
        "        if board[row][i] == 1: \r\n",
        "            return False\r\n",
        "  \r\n",
        "    # Check upper diagonal on left side \r\n",
        "    for i, j in zip(range(row, -1, -1),  \r\n",
        "                    range(col, -1, -1)): \r\n",
        "        if board[i][j] == 1: \r\n",
        "            return False\r\n",
        "  \r\n",
        "    # Check lower diagonal on left side \r\n",
        "    for i, j in zip(range(row, N, 1),  \r\n",
        "                    range(col, -1, -1)): \r\n",
        "        if board[i][j] == 1: \r\n",
        "            return False\r\n",
        "  \r\n",
        "    return True\r\n",
        "  \r\n",
        "def solveNQUtil(board, col): \r\n",
        "      \r\n",
        "    # base case: If all queens are placed \r\n",
        "    # then return true \r\n",
        "    if col >= N: \r\n",
        "        return True\r\n",
        "  \r\n",
        "    # Consider this column and try placing \r\n",
        "    # this queen in all rows one by one \r\n",
        "    for i in range(N): \r\n",
        "  \r\n",
        "        if isSafe(board, i, col): \r\n",
        "              \r\n",
        "            # Place this queen in board[i][col] \r\n",
        "            board[i][col] = 1\r\n",
        "  \r\n",
        "            # recur to place rest of the queens \r\n",
        "            if solveNQUtil(board, col + 1) == True: \r\n",
        "                return True\r\n",
        "  \r\n",
        "            # If placing queen in board[i][col \r\n",
        "            # doesn't lead to a solution, then \r\n",
        "            # queen from board[i][col] \r\n",
        "            board[i][col] = 0\r\n",
        "  \r\n",
        "    # if the queen can not be placed in any row in \r\n",
        "    # this colum col then return false \r\n",
        "    return False\r\n",
        "  \r\n",
        "# This function solves the N Queen problem using \r\n",
        "# Backtracking. It mainly uses solveNQUtil() to \r\n",
        "# solve the problem. It returns false if queens \r\n",
        "# cannot be placed, otherwise return true and \r\n",
        "# placement of queens in the form of 1s. \r\n",
        "# note that there may be more than one \r\n",
        "# solutions, this function prints one of the \r\n",
        "# feasible solutions. \r\n",
        "def solveNQ(): \r\n",
        "    board = [ [0, 0, 0, 0, 0, 0, 0, 0], \r\n",
        "              [0, 0, 0, 0, 0, 0, 0, 0], \r\n",
        "              [0, 0, 0, 0, 0, 0, 0, 0], \r\n",
        "              [0, 0, 0, 0, 0, 0, 0, 0],\r\n",
        "              [0, 0, 0, 0, 0, 0, 0, 0],\r\n",
        "              [0, 0, 0, 0, 0, 0, 0, 0],\r\n",
        "              [0, 0, 0, 0, 0, 0, 0, 0],\r\n",
        "              [0, 0, 0, 0, 0, 0, 0, 0] ] \r\n",
        "  \r\n",
        "    if solveNQUtil(board, 0) == False: \r\n",
        "        print (\"Solution does not exist\") \r\n",
        "        return False\r\n",
        "  \r\n",
        "    printSolution(board) \r\n",
        "    return True\r\n",
        "  \r\n",
        "# Driver Code \r\n",
        "solveNQ() \r\n",
        "  \r\n",
        "# This code is contributed by Divyanshu Mehta "
      ],
      "execution_count": 17,
      "outputs": [
        {
          "output_type": "stream",
          "text": [
            "1 0 0 0 0 0 0 0 \n",
            "0 0 0 0 0 0 1 0 \n",
            "0 0 0 0 1 0 0 0 \n",
            "0 0 0 0 0 0 0 1 \n",
            "0 1 0 0 0 0 0 0 \n",
            "0 0 0 1 0 0 0 0 \n",
            "0 0 0 0 0 1 0 0 \n",
            "0 0 1 0 0 0 0 0 \n"
          ],
          "name": "stdout"
        },
        {
          "output_type": "execute_result",
          "data": {
            "text/plain": [
              "True"
            ]
          },
          "metadata": {
            "tags": []
          },
          "execution_count": 17
        }
      ]
    }
  ]
}