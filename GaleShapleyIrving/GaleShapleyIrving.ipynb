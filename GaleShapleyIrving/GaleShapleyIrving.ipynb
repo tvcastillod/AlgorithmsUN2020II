{
  "nbformat": 4,
  "nbformat_minor": 0,
  "metadata": {
    "colab": {
      "name": "GaleShapleyIrving.ipynb",
      "provenance": [],
      "collapsed_sections": []
    },
    "kernelspec": {
      "name": "python3",
      "display_name": "Python 3"
    }
  },
  "cells": [
    {
      "cell_type": "markdown",
      "metadata": {
        "id": "GEjT6xTPwOwY"
      },
      "source": [
        "**2.** Run the Gale-Shapley Algorithm 100 times using random permutations as preference lists for n=4 and 40. Find the minimum, maximum and average number of iterations and plot the distribution of the number of iterations."
      ]
    },
    {
      "cell_type": "code",
      "metadata": {
        "id": "TlEoqA1Oo47l"
      },
      "source": [
        "# CODE taken from https://www.geeksforgeeks.org/stable-marriage-problem/ based on Gale–Shapley algorithm \n",
        "\n",
        "# This function returns true if  \n",
        "# woman 'w' prefers man 'm1' over man 'm' \n",
        "def wPrefersM1OverM(prefer, w, m, m1, N): \n",
        "      \n",
        "    # Check if w prefers m over her  \n",
        "    # current engagment m1 \n",
        "    for i in range(N): \n",
        "          \n",
        "        # If m1 comes before m in lisr of w,  \n",
        "        # then w prefers her current engagement, \n",
        "        # don't do anything \n",
        "        if (prefer[w][i] == m1): \n",
        "            return True\n",
        "  \n",
        "        # If m cmes before m1 in w's list,  \n",
        "        # then free her current engagement  \n",
        "        # and engage her with m \n",
        "        if (prefer[w][i] == m): \n",
        "            return False\n",
        "  \n",
        "# Prints stable matching for N boys and N girls.  \n",
        "# Boys are numbered as 0 to N-1.  \n",
        "# Girls are numbereed as N to 2N-1. \n",
        "def stableMarriage(prefer): \n",
        "    N = int(len(prefer)/2)  \n",
        "    # Stores partner of women. This is our output  \n",
        "    # array that stores paing information.  \n",
        "    # The value of wPartner[i] indicates the partner  \n",
        "    # assigned to woman N+i. Note that the woman numbers  \n",
        "    # between N and 2*N-1. The value -1 indicates  \n",
        "    # that (N+i)'th woman is free \n",
        "    wPartner = [-1 for i in range(N)] \n",
        "  \n",
        "    # An array to store availability of men.  \n",
        "    # If mFree[i] is false, then man 'i' is free, \n",
        "    # otherwise engaged. \n",
        "    mFree = [False for i in range(N)] \n",
        "  \n",
        "    freeCount = N \n",
        "  \n",
        "    count = 0\n",
        "    # While there are free men \n",
        "    while (freeCount > 0): \n",
        "          \n",
        "        # Pick the first free man (we could pick any) \n",
        "        m = 0\n",
        "        while (m < N): \n",
        "            if (mFree[m] == False): \n",
        "                break\n",
        "            m += 1\n",
        "  \n",
        "        # One by one go to all women according to  \n",
        "        # m's preferences. Here m is the picked free man \n",
        "        i = 0\n",
        "        while i < N and mFree[m] == False: \n",
        "            w = prefer[m][i] \n",
        "  \n",
        "            # The woman of preference is free,  \n",
        "            # w and m become partners (Note that  \n",
        "            # the partnership maybe changed later).  \n",
        "            # So we can say they are engaged not married \n",
        "            if (wPartner[w - N] == -1): \n",
        "                wPartner[w - N] = m \n",
        "                mFree[m] = True\n",
        "                freeCount -= 1\n",
        "  \n",
        "            else:  \n",
        "                  \n",
        "                # If w is not free \n",
        "                # Find current engagement of w \n",
        "                m1 = wPartner[w - N] \n",
        "  \n",
        "                # If w prefers m over her current engagement m1, \n",
        "                # then break the engagement between w and m1 and \n",
        "                # engage m with w. \n",
        "                if (wPrefersM1OverM(prefer, w, m, m1, N) == False): \n",
        "                    wPartner[w - N] = m \n",
        "                    mFree[m] = True\n",
        "                    mFree[m1] = False\n",
        "            i += 1\n",
        "  \n",
        "            # End of Else \n",
        "        # End of the for loop that goes  \n",
        "        # to all women in m's list \n",
        "        count+=1\n",
        "    # End of main while loop \n",
        "    return count"
      ],
      "execution_count": 1,
      "outputs": []
    },
    {
      "cell_type": "code",
      "metadata": {
        "id": "QasWXKgXpfJs"
      },
      "source": [
        "from itertools import permutations \n",
        "import random as r\n",
        "\n",
        "prmt_1 = permutations([0, 1, 2, 3]) \n",
        "prmt_2 = permutations([4, 5, 6, 7]) \n",
        "permut_1 = list(prmt_1)\n",
        "permut_2 = list(prmt_2)\n",
        "n_permut = len(permut_1)"
      ],
      "execution_count": 2,
      "outputs": []
    },
    {
      "cell_type": "code",
      "metadata": {
        "colab": {
          "base_uri": "https://localhost:8080/",
          "height": 319
        },
        "id": "91txWAnHr04S",
        "outputId": "11644824-d3b4-4da5-c15f-5e4d43cb0257"
      },
      "source": [
        "import matplotlib.pyplot as plt\n",
        "import numpy as np\n",
        "\n",
        "# N = 4\n",
        "\n",
        "iterations = [-1]*100\n",
        "for n in range (100):\n",
        "  prefer = [-1]*8\n",
        "  for i in range (8):\n",
        "    if (i<=3): prefer[i] = list(permut_2[r.randint(0,n_permut-1)])\n",
        "    else: prefer[i] = list(permut_1[r.randint(0,n_permut-1)])\n",
        "  iterations[n] = stableMarriage(prefer)\n",
        "  \n",
        "print(\"min: \", min(iterations))\n",
        "print(\"max: \", max(iterations))\n",
        "print(\"avg: \", sum(iterations)/len(iterations))\n",
        "\n",
        "data = np.array(iterations)\n",
        "plt.hist(data, bins = 10)\n",
        "plt.show()"
      ],
      "execution_count": 3,
      "outputs": [
        {
          "output_type": "stream",
          "text": [
            "min:  4\n",
            "max:  10\n",
            "avg:  5.25\n"
          ],
          "name": "stdout"
        },
        {
          "output_type": "display_data",
          "data": {
            "image/png": "[encoded data removed]",
            "text/plain": [
              "<Figure size 432x288 with 1 Axes>"
            ]
          },
          "metadata": {
            "tags": [],
            "needs_background": "light"
          }
        }
      ]
    },
    {
      "cell_type": "code",
      "metadata": {
        "colab": {
          "base_uri": "https://localhost:8080/",
          "height": 319
        },
        "id": "fsDXMmbVX8P9",
        "outputId": "7600bec0-ab97-4e67-a0e3-de22a6db40fc"
      },
      "source": [
        "from itertools import islice\n",
        "\n",
        "# N = 40\n",
        "\n",
        "prmt_1 = permutations([i for i in range (40)]) \n",
        "prmt_2 = permutations([j for j in range (40, 80)]) \n",
        "permut_1 = list(islice(prmt_1,0,100000,10)) # due to the large number of permutations, we take just 10000 to do the test\n",
        "permut_2 = list(islice(prmt_1,0,100000,10))\n",
        "n_permut = len(permut_1)\n",
        "\n",
        "iterations = [-1]*100\n",
        "for n in range (100):\n",
        "  prefer = [-1]*80\n",
        "  for i in range (80):\n",
        "    if (i<=3): prefer[i] = list(permut_2[r.randint(0,n_permut-1)])\n",
        "    else: prefer[i] = list(permut_1[r.randint(0,n_permut-1)])\n",
        "  iterations[n] = stableMarriage(prefer)\n",
        "  \n",
        "print(\"min: \", min(iterations))\n",
        "print(\"max: \", max(iterations))\n",
        "print(\"avg: \", sum(iterations)/len(iterations))\n",
        "\n",
        "data = np.array(iterations)\n",
        "plt.hist(data, bins = 10)\n",
        "plt.show()"
      ],
      "execution_count": 4,
      "outputs": [
        {
          "output_type": "stream",
          "text": [
            "min:  40\n",
            "max:  50\n",
            "avg:  43.35\n"
          ],
          "name": "stdout"
        },
        {
          "output_type": "display_data",
          "data": {
            "image/png": "[encoded data removed]",
            "text/plain": [
              "<Figure size 432x288 with 1 Axes>"
            ]
          },
          "metadata": {
            "tags": [],
            "needs_background": "light"
          }
        }
      ]
    }
  ]
}