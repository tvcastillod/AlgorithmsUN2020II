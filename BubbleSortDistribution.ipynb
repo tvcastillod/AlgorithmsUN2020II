{
  "nbformat": 4,
  "nbformat_minor": 0,
  "metadata": {
    "colab": {
      "name": "BubbleSortDistribution",
      "provenance": [],
      "collapsed_sections": []
    },
    "kernelspec": {
      "name": "python3",
      "display_name": "Python 3"
    }
  },
  "cells": [
    {
      "cell_type": "markdown",
      "metadata": {
        "id": "AuFp4-lIVthX"
      },
      "source": [
        "# **Laboratorio 10**"
      ]
    },
    {
      "cell_type": "markdown",
      "metadata": {
        "id": "qhJ-36m-ciQE"
      },
      "source": [
        "**PARTE 1.** ***Bubble Sort Distribution***\r\n",
        "\r\n",
        "\r\n",
        "Reproduce the **Bubble Sort** *(optimized – stops if in a round does not do swaps)* time distribución calculated in ungrid in a Colab notebook using permutations from itertools and histogram from matplotlib and upload the notebook in *BubbleSortDistribution.ipynb* in the group’s github.\r\n"
      ]
    },
    {
      "cell_type": "markdown",
      "metadata": {
        "id": "A2JTdtzwvQDT"
      },
      "source": [
        "# **Solución**"
      ]
    },
    {
      "cell_type": "markdown",
      "metadata": {
        "id": "_qPa9rPFvUdx"
      },
      "source": [
        "**Import Libraries.**"
      ]
    },
    {
      "cell_type": "code",
      "metadata": {
        "id": "yS5GccUJqAXu"
      },
      "source": [
        "# import libraries\r\n",
        "import matplotlib.pyplot as plt\r\n",
        "import itertools as it\r\n",
        "import numpy as np\r\n",
        "import pandas as pd"
      ],
      "execution_count": null,
      "outputs": []
    },
    {
      "cell_type": "markdown",
      "metadata": {
        "id": "H8yPEiI3s_Ow"
      },
      "source": [
        "**Bubble Sort.** Bubble Sort is the simplest sorting algorithm that works by repeatedly swapping the adjacent elements if they are in wrong order."
      ]
    },
    {
      "cell_type": "code",
      "metadata": {
        "id": "3eEZ5LaQt5lv"
      },
      "source": [
        "def bubbleSort(v): #Algoritmo bubbleSort Simple\r\n",
        "    s = 0 \r\n",
        "    c = v[:] \r\n",
        "    for i in range(len(c)-1): \r\n",
        "  \r\n",
        "        for j in reversed(range(i+1,len(c))): \r\n",
        "            s += 1\r\n",
        "            if (c[j] < c[j-1]) : \r\n",
        "                swap(c,j,j-1)\r\n",
        "    return  s, c\r\n",
        "  \r\n",
        "  def swap(v,i,j):\r\n",
        "  t = v[i]\r\n",
        "  v[i] = v[j]\r\n",
        "  v[j] = t"
      ],
      "execution_count": null,
      "outputs": []
    },
    {
      "cell_type": "markdown",
      "metadata": {
        "id": "-NQrh4g5tNJ6"
      },
      "source": [
        "**Bubble Sort Optimizado.** The above function always runs O(n^2) time even if the array is sorted. It can be optimized by stopping the algorithm if inner loop didn’t cause any swap."
      ]
    },
    {
      "cell_type": "code",
      "metadata": {
        "id": "QKXSr5NqgCBg"
      },
      "source": [
        "\r\n",
        "def BubbleSortOptimizado(v): #Algoritmo bubbleShortOptimizado\r\n",
        "    s = 0 \r\n",
        "    c = v[:]\r\n",
        "    for i in range(len(c)-1): \r\n",
        "        flag = False\r\n",
        "        for j in reversed(range(i+1,len(c))): \r\n",
        "            s += 1\r\n",
        "            if (c[j] < c[j-1]) : \r\n",
        "                swap(c,j,j-1)\r\n",
        "                flag = True\r\n",
        "                s += 1\r\n",
        "        if flag == False: \r\n",
        "            break\r\n",
        "    return s, c\r\n",
        "\r\n",
        "def swap(v,i,j):\r\n",
        "  t = v[i]\r\n",
        "  v[i] = v[j]\r\n",
        "  v[j] = t\r\n"
      ],
      "execution_count": null,
      "outputs": []
    },
    {
      "cell_type": "markdown",
      "metadata": {
        "id": "ew2bJsqn1j7_"
      },
      "source": [
        "**Bubble Sort Time Distribution**"
      ]
    },
    {
      "cell_type": "code",
      "metadata": {
        "id": "uo1JgLFiq3eR"
      },
      "source": [
        "from collections import Counter\r\n",
        "def plotBubbleSort(n):\r\n",
        "  \r\n",
        "   # Grafica los pasos que se demora el algoritmo bubble sort.\r\n",
        "   # n: es el tamaño de la lista a ordenar\r\n",
        "  v = [i+1 for i in range(n)] # Vector con n elementos\r\n",
        "  pobj = it.permutations(v)   # Se calculan para n! permutaciones\r\n",
        "  permutaciones = list(pobj)\r\n",
        "  xhist = []     \r\n",
        "  for p in permutaciones: #Ejecuta bubbleSort\r\n",
        "    pl = list(p)\r\n",
        "    t, po = bubbleSort(pl)\r\n",
        "    xhist.append(t)\r\n",
        "    titulo = \"Bubble Sort time distribution\".format(n)\r\n",
        "\r\n",
        "  plt.hist(xhist, density=True)\r\n",
        "  plt.title(titulo)\r\n",
        "  plt.ylabel(\"density\")\r\n",
        "  plt.xlabel(\"time complexity\")\r\n",
        "  plt.show()\r\n",
        "\r\n",
        "  for i in range(min(xhist), max(xhist)+1):\r\n",
        "    porcentaje = xhist.count(i)/len(xhist)*100\r\n",
        "    print(\"P({0}) = {1} %\".format(i,porcentaje))\r\n",
        "  print(\"\\nAvg:\",sum(xhist)/len(xhist))"
      ],
      "execution_count": null,
      "outputs": []
    },
    {
      "cell_type": "code",
      "metadata": {
        "colab": {
          "base_uri": "https://localhost:8080/",
          "height": 350
        },
        "id": "AjNIOOtSsZCP",
        "outputId": "162c26ee-ca58-4921-b7e0-59bfc3a0457a"
      },
      "source": [
        "plotBubbleSort(1)"
      ],
      "execution_count": null,
      "outputs": [
        {
          "output_type": "display_data",
          "data": {
            "image/png": "[encoded data removed]",
            "text/plain": [
              "<Figure size 432x288 with 1 Axes>"
            ]
          },
          "metadata": {
            "tags": [],
            "needs_background": "light"
          }
        },
        {
          "output_type": "stream",
          "text": [
            "P(0) = 100.0 %\n",
            "\n",
            "Avg: 0.0\n"
          ],
          "name": "stdout"
        }
      ]
    },
    {
      "cell_type": "code",
      "metadata": {
        "id": "f_YmEPDMrGDQ"
      },
      "source": [
        "from collections import Counter\r\n",
        "def plotBubbleSort(n):\r\n",
        "  \r\n",
        "   # Grafica los pasos que se demora el algoritmo bubble sort.\r\n",
        "   # n: es el tamaño de la lista a ordenar\r\n",
        "  v = [i+1 for i in range(n)] # Vector con n elementos\r\n",
        "  pobj = it.permutations(v)   # Se calculan para n! permutaciones\r\n",
        "  permutaciones = list(pobj)\r\n",
        "  xhist = []          \r\n",
        "  for p in permutaciones: #Ejecuta optimizedBubbleSort\r\n",
        "    pl = list(p)\r\n",
        "    t, po = BubbleSortOptimizado(pl)\r\n",
        "    xhist.append(t)\r\n",
        "  titulo = \"Bubble Sort Optimized time distribution\".format(n)\r\n",
        " \r\n",
        "  \r\n",
        "  plt.hist(xhist, density=True)\r\n",
        "  plt.title(titulo)\r\n",
        "  plt.ylabel(\"density\")\r\n",
        "  plt.xlabel(\"time complexity\")\r\n",
        "  plt.show()\r\n",
        "\r\n",
        "  for i in range(min(xhist), max(xhist)+1):\r\n",
        "    porcentaje = xhist.count(i)/len(xhist)*100\r\n",
        "    print(\"P({0}) = {1} %\".format(i,porcentaje))\r\n",
        "  print(\"\\nAvg:\",sum(xhist)/len(xhist))"
      ],
      "execution_count": null,
      "outputs": []
    },
    {
      "cell_type": "code",
      "metadata": {
        "colab": {
          "base_uri": "https://localhost:8080/",
          "height": 350
        },
        "id": "qE0gkgJEjw8d",
        "outputId": "d277c584-a872-4ebb-d83c-de6fefb8bacc"
      },
      "source": [
        "plotBubbleSortOptimizado(1)"
      ],
      "execution_count": null,
      "outputs": [
        {
          "output_type": "display_data",
          "data": {
            "image/png": "[encoded data removed]",
            "text/plain": [
              "<Figure size 432x288 with 1 Axes>"
            ]
          },
          "metadata": {
            "tags": [],
            "needs_background": "light"
          }
        },
        {
          "output_type": "stream",
          "text": [
            "P(0) = 100.0 %\n",
            "\n",
            "Avg: 0.0\n"
          ],
          "name": "stdout"
        }
      ]
    },
    {
      "cell_type": "markdown",
      "metadata": {
        "id": "F0-QDH8LygGC"
      },
      "source": [
        "**Bubble Sort Optimized Time Distribution**"
      ]
    },
    {
      "cell_type": "code",
      "metadata": {
        "id": "LC6ajeSIvHz4"
      },
      "source": [
        "from collections import Counter\r\n",
        "def plotBubbleSortOptimizado(n):\r\n",
        "  \r\n",
        "   # Grafica los pasos que se demora el algoritmo bubble sort.\r\n",
        "   # n: es el tamaño de la lista a ordenar\r\n",
        "  v = [i+1 for i in range(n)] # Vector con n elementos\r\n",
        "  pobj = it.permutations(v)   # Se calculan para n! permutaciones\r\n",
        "  permutaciones = list(pobj)\r\n",
        "  xhist = []          \r\n",
        "  for p in permutaciones: #Ejecuta optimizedBubbleSort\r\n",
        "    pl = list(p)\r\n",
        "    t, po = BubbleSortOptimizado(pl)\r\n",
        "    xhist.append(t)\r\n",
        "  titulo = \"Bubble Sort Optimized time distribution\".format(n)\r\n",
        " \r\n",
        "  \r\n",
        "  plt.hist(xhist, density=True)\r\n",
        "  plt.title(titulo)\r\n",
        "  plt.ylabel(\"density\")\r\n",
        "  plt.xlabel(\"time complexity\")\r\n",
        "  plt.show()\r\n",
        "\r\n",
        "  for i in range(min(xhist), max(xhist)+1):\r\n",
        "    porcentaje = xhist.count(i)/len(xhist)*100\r\n",
        "    print(\"P({0}) = {1} %\".format(i,porcentaje))\r\n",
        "  print(\"\\nAvg:\",sum(xhist)/len(xhist))"
      ],
      "execution_count": null,
      "outputs": []
    },
    {
      "cell_type": "code",
      "metadata": {
        "colab": {
          "base_uri": "https://localhost:8080/",
          "height": 368
        },
        "id": "7XwlumGej6J1",
        "outputId": "90c381e8-e21c-4f79-bb90-48f3dfc638c1"
      },
      "source": [
        "plotBSort(2)"
      ],
      "execution_count": null,
      "outputs": [
        {
          "output_type": "display_data",
          "data": {
            "image/png": "[encoded data removed]",
            "text/plain": [
              "<Figure size 432x288 with 1 Axes>"
            ]
          },
          "metadata": {
            "tags": [],
            "needs_background": "light"
          }
        },
        {
          "output_type": "stream",
          "text": [
            "P(1) = 50.0 %\n",
            "P(2) = 50.0 %\n",
            "\n",
            "Avg: 1.5\n"
          ],
          "name": "stdout"
        }
      ]
    },
    {
      "cell_type": "code",
      "metadata": {
        "colab": {
          "base_uri": "https://localhost:8080/",
          "height": 424
        },
        "id": "ZAXOYSv1kFuj",
        "outputId": "5784c98f-212e-46b3-cdbf-5bf8116c201e"
      },
      "source": [
        "plotBSort(3)"
      ],
      "execution_count": null,
      "outputs": [
        {
          "output_type": "display_data",
          "data": {
            "image/png": "[encoded data removed]",
            "text/plain": [
              "<Figure size 432x288 with 1 Axes>"
            ]
          },
          "metadata": {
            "tags": [],
            "needs_background": "light"
          }
        },
        {
          "output_type": "stream",
          "text": [
            "P(2) = 16.666666666666664 %\n",
            "P(3) = 0.0 %\n",
            "P(4) = 33.33333333333333 %\n",
            "P(5) = 33.33333333333333 %\n",
            "P(6) = 16.666666666666664 %\n",
            "\n",
            "Avg: 4.333333333333333\n"
          ],
          "name": "stdout"
        }
      ]
    },
    {
      "cell_type": "code",
      "metadata": {
        "colab": {
          "base_uri": "https://localhost:8080/",
          "height": 515
        },
        "id": "-DsW09ITkZta",
        "outputId": "4a2de411-0875-4577-c209-2e417f45f952"
      },
      "source": [
        "plotBSort(4)"
      ],
      "execution_count": null,
      "outputs": [
        {
          "output_type": "display_data",
          "data": {
            "image/png": "[encoded data removed]",
            "text/plain": [
              "<Figure size 432x288 with 1 Axes>"
            ]
          },
          "metadata": {
            "tags": [],
            "needs_background": "light"
          }
        },
        {
          "output_type": "stream",
          "text": [
            "P(3) = 4.166666666666666 %\n",
            "P(4) = 0.0 %\n",
            "P(5) = 0.0 %\n",
            "P(6) = 12.5 %\n",
            "P(7) = 12.5 %\n",
            "P(8) = 12.5 %\n",
            "P(9) = 20.833333333333336 %\n",
            "P(10) = 20.833333333333336 %\n",
            "P(11) = 12.5 %\n",
            "P(12) = 4.166666666666666 %\n",
            "\n",
            "Avg: 8.583333333333334\n"
          ],
          "name": "stdout"
        }
      ]
    },
    {
      "cell_type": "code",
      "metadata": {
        "colab": {
          "base_uri": "https://localhost:8080/",
          "height": 644
        },
        "id": "KXsM56PRp8tG",
        "outputId": "233e6c52-a98b-4ee0-fcf0-2a6276ccc3b6"
      },
      "source": [
        "plotBSort(5)"
      ],
      "execution_count": null,
      "outputs": [
        {
          "output_type": "display_data",
          "data": {
            "image/png": "[encoded data removed]",
            "text/plain": [
              "<Figure size 432x288 with 1 Axes>"
            ]
          },
          "metadata": {
            "tags": [],
            "needs_background": "light"
          }
        },
        {
          "output_type": "stream",
          "text": [
            "P(4) = 0.8333333333333334 %\n",
            "P(5) = 0.0 %\n",
            "P(6) = 0.0 %\n",
            "P(7) = 0.0 %\n",
            "P(8) = 3.3333333333333335 %\n",
            "P(9) = 5.0 %\n",
            "P(10) = 3.3333333333333335 %\n",
            "P(11) = 3.3333333333333335 %\n",
            "P(12) = 7.5 %\n",
            "P(13) = 11.666666666666666 %\n",
            "P(14) = 13.333333333333334 %\n",
            "P(15) = 14.166666666666666 %\n",
            "P(16) = 14.166666666666666 %\n",
            "P(17) = 11.666666666666666 %\n",
            "P(18) = 7.5 %\n",
            "P(19) = 3.3333333333333335 %\n",
            "P(20) = 0.8333333333333334 %\n",
            "\n",
            "Avg: 14.258333333333333\n"
          ],
          "name": "stdout"
        }
      ]
    }
  ]
}