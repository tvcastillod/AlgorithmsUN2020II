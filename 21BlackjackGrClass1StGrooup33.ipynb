{
  "nbformat": 4,
  "nbformat_minor": 0,
  "metadata": {
    "colab": {
      "name": "21BlackjackGrClass1StGrooup33.ipynb",
      "provenance": [],
      "collapsed_sections": []
    },
    "kernelspec": {
      "name": "python3",
      "display_name": "Python 3"
    }
  },
  "cells": [
    {
      "cell_type": "markdown",
      "metadata": {
        "id": "YJm3RXYFE6Dh"
      },
      "source": [
        "1. Estimate the probability of getting a 21, the average number of cards required to complete 21 and plot the experimental distribution of the number of card required to complete 21 drawing cards sequentially from a shuffled Spanish 48-card deck with card values [1,2,3,4,5,6,7,8,9,10,11,12,1,2,3,4,5,6,7,8,9,10,11,12,1,2,3,4,5,6,7,8,9,10,11,12,1,2,3,4,5,6,7,8,9,10,11,12] and from a shuffled Poker 52-card with card values [1,2,3,4,5,6,7,8,9,10,11,12,13,1,2,3,4,5,6,7,8,9,10,11,12,13,1,2,3,4,5,6,7,8,9,10,11,12,13,1,2,3,4,5,6,7,8,9,10,11,12,13] using Montecarlo with 10 millions simulations."
      ]
    },
    {
      "cell_type": "code",
      "metadata": {
        "id": "Y_iNfwCKUjSe",
        "outputId": "8dad7049-42ad-4137-ed77-7459f52d6217",
        "colab": {
          "base_uri": "https://localhost:8080/",
          "height": 282
        }
      },
      "source": [
        "import random \n",
        "import matplotlib.pyplot as plt\n",
        "\n",
        "n=10000000\n",
        "count = 0 \n",
        "avnc = 0\n",
        "nc21=[]\n",
        "for i in range(n):\n",
        "  spanishDeck = [1,2,3,4,5,6,7,8,9,10,11,12,1,2,3,4,5,6,7,8,9,10,11,12,1,2,3,4,5,6,7,8,9,10,11,12,1,2,3,4,5,6,7,8,9,10,11,12]\n",
        "  pokerDeck = [1,2,3,4,5,6,7,8,9,10,11,12,13,1,2,3,4,5,6,7,8,9,10,11,12,13,1,2,3,4,5,6,7,8,9,10,11,12,13,1,2,3,4,5,6,7,8,9,10,11,12,13]\n",
        "  my_cards = []\n",
        "  nc =0\n",
        "  deck=pokerDeck\n",
        "  while(sum(my_cards)<21):\n",
        "      card = random.choice(deck)\n",
        "      my_cards.append(card)\n",
        "      deck.remove(card)\n",
        "      nc=nc+1\n",
        "  if (sum(my_cards)==21):\n",
        "      count=count+1\n",
        "      avnc = avnc+nc\n",
        "      nc21.append(nc)\n",
        "\n",
        "print(\"21 probability\", count/n,\"Average # cards\", avnc/count )\n",
        "plt.hist(nc21,density=True,bins=30)\n",
        "plt.show()"
      ],
      "execution_count": null,
      "outputs": [
        {
          "output_type": "stream",
          "text": [
            "21 probability 0.1446109 Average # cards 3.215783872446683\n"
          ],
          "name": "stdout"
        },
        {
          "output_type": "display_data",
          "data": {
            "image/png": "[encoded data removed]",
            "text/plain": [
              "<Figure size 432x288 with 1 Axes>"
            ]
          },
          "metadata": {
            "tags": [],
            "needs_background": "light"
          }
        }
      ]
    },
    {
      "cell_type": "markdown",
      "metadata": {
        "id": "RUrgBnIyFCwv"
      },
      "source": [
        "2. Estimate the probability of getting a 21, the average number of cards required to complete 21 and plot the experimental distribution of the number of card required to complete 21 drawing cards sequentially from a shuffled Spanish 48-card deck with card values [1,2,3,4,5,6,7,8,9,10,10,10,1,2,3,4,5,6,7,8,9,10,10,10,1,2,3,4,5,6,7,8,9,10,10,10,1,2,3,4,5,6,7,8,9,10,10,10] and from a shuffled Poker 52-card deck with card values [1,2,3,4,5,6,7,8,9,10,10,10,10,1,2,3,4,5,6,7,8,9,10,10,10,10,1,2,3,4,5,6,7,8,9,10,10,10,10,1,2,3,4,5,6,7,8,9,10,10,10,10] using Montecarlo with 10 millions simulations."
      ]
    },
    {
      "cell_type": "code",
      "metadata": {
        "id": "6EgzLtMWcTpL",
        "outputId": "c71a60a1-907e-48d2-ee53-44159aa70f44",
        "colab": {
          "base_uri": "https://localhost:8080/",
          "height": 282
        }
      },
      "source": [
        "n=10000000\n",
        "count = 0 \n",
        "avnc = 0\n",
        "nc21=[]\n",
        "for i in range(n):\n",
        "  shuffledDeck = [1,2,3,4,5,6,7,8,9,10,10,10,1,2,3,4,5,6,7,8,9,10,10,10,1,2,3,4,5,6,7,8,9,10,10,10,1,2,3,4,5,6,7,8,9,10,10,10]\n",
        "  shuffledDeck2 = [1,2,3,4,5,6,7,8,9,10,10,10,10,1,2,3,4,5,6,7,8,9,10,10,10,10,1,2,3,4,5,6,7,8,9,10,10,10,10,1,2,3,4,5,6,7,8,9,10,10,10,10] \n",
        "  my_cards = []\n",
        "  nc =0\n",
        "  deck=shuffledDeck\n",
        "  while(sum(my_cards)<21):\n",
        "      card = random.choice(deck)\n",
        "      my_cards.append(card)\n",
        "      deck.remove(card)\n",
        "      nc=nc+1\n",
        "  if (sum(my_cards)==21):\n",
        "      count=count+1\n",
        "      avnc = avnc+nc\n",
        "      nc21.append(nc)\n",
        "print(\"21 probability\", count/n,\"Average # cards\", avnc/count )\n",
        "plt.hist(nc21,density=True,bins=30)\n",
        "plt.show()\n"
      ],
      "execution_count": null,
      "outputs": [
        {
          "output_type": "stream",
          "text": [
            "21 probability 0.1498002 Average # cards 3.6983635535867108\n"
          ],
          "name": "stdout"
        },
        {
          "output_type": "display_data",
          "data": {
            "image/png": "[encoded data removed]",
            "text/plain": [
              "<Figure size 432x288 with 1 Axes>"
            ]
          },
          "metadata": {
            "tags": [],
            "needs_background": "light"
          }
        }
      ]
    },
    {
      "cell_type": "markdown",
      "metadata": {
        "id": "yxehDB-BFGez"
      },
      "source": [
        "3. Estimate the probability of getting a 21, the average total number of cards required to complete 21 (including the three that you start with) and plot the experimental distribution of the number of card required to complete 21 with drawing cards sequentially from a shuffled Spanish 48-card deck with 3 10’s and a shuffled Poker 52-card deck with 4 10’s, assuming that you have in your hand the cards [7,7,5]ae and the remaining deck has n/2 cards. You can pick the n/2 cards in the remaining deck in whatever way you choose but with restriction that this has maximum two 7s and three 5, you have to keep the remaining deck fixed through the simulations, use Montecarlo with 10 millions simulations."
      ]
    },
    {
      "cell_type": "code",
      "metadata": {
        "id": "RChDavfzgjN5",
        "outputId": "230b7407-2520-4b65-d4f8-d6f78501fce1",
        "colab": {
          "base_uri": "https://localhost:8080/",
          "height": 282
        }
      },
      "source": [
        "n=10000000\n",
        "count = 0 \n",
        "avnc = 0\n",
        "nc21 = []\n",
        "for i in range(n):\n",
        "  my_cards = [7,7,5]\n",
        "  pokerDeck = [1,2,3,4,6,8,9,10,10,10,10,1,2,3,4,5,6,8,9,10,10,10,10,1,2,3,4,5,6,7,8,9,10,10,10,10,1,2,3,4,5,6,7,8,9,10,10,10,10] \n",
        "  spanishDeck = [1,2,3,4,6,8,9,10,10,10,11,12,1,2,3,4,5,6,8,9,10,10,10,11,12,1,2,3,4,5,6,7,8,9,10,10,10,11,12,1,2,3,4,5,6,7,8,9,10,10,10,11,12]\n",
        "  deck=spanishDeck\n",
        "  for j in range(int(len(deck)/2)-3): \n",
        "    card = random.choice(deck)\n",
        "    deck.remove(card) \n",
        "  nc = 3\n",
        "  while(sum(my_cards)<21):\n",
        "      card = random.choice(deck)\n",
        "      my_cards.append(card)\n",
        "      deck.remove(card)\n",
        "      nc = nc + 1\n",
        "  if (sum(my_cards)==21):\n",
        "      count=count+1\n",
        "      avnc = avnc+nc\n",
        "      nc21.append(nc)\n",
        "print(\"21 probability\", count/n,\"Average # cards\", avnc/count )\n",
        "plt.hist(nc21,density=True,bins=10)\n",
        "plt.show()"
      ],
      "execution_count": null,
      "outputs": [
        {
          "output_type": "stream",
          "text": [
            "21 probability 0.0798467 Average # cards 4.054466872143745\n"
          ],
          "name": "stdout"
        },
        {
          "output_type": "display_data",
          "data": {
            "image/png": "[encoded data removed]",
            "text/plain": [
              "<Figure size 432x288 with 1 Axes>"
            ]
          },
          "metadata": {
            "tags": [],
            "needs_background": "light"
          }
        }
      ]
    },
    {
      "cell_type": "markdown",
      "metadata": {
        "id": "kB5v8zxHCKoV"
      },
      "source": [
        "4. Find two remaining decks with 12 cards for Alg Gr 1 9-11 and with 10 cards for Alg Gr 2 11-1; for a Spanish 48-card deck with 3 10’s and for a Poker 52-card deck with 4 10’s; one remaining has the highest probability of getting 21 (hot deck) and the other remaining s that has the lowest probability of getting 21(cold deck), assuming that you have in your hand the cards [7,7,5]. Calculate analytically the probabilities of getting a 21 for both the hot an cold deck, estimate this probabilities of getting a 21, the average total number of cards required to complete 21 (including the three that you start with) and plot the experimental distribution of the total number of card required to complete 21 (including the three that you start with) using Montecarlo with 10 millions simulations.\n",
        "\n",
        "\n",
        "Como se tienen las cartas $[7,7,5]$, la suma de estas es igual a $19$ y por tanto necesitamos un $2$ para completar el $21$. Para ello se tienen dos opciones: una carta con el número dos o dos cartas con el número $1$. La probabilidad de sacar un $2$ del 'hot deck' es de $\\frac{4}{12}$, ya que tenemos $4$ cartas de $2$ y $12$ cartas en la baraja. Por otro lado, la probabilidad de sacar dos cartas de $1$ sería igual a $\\frac{4}{12}\\cdot\\frac{3}{11}$ ya que la probabilidad de sacar $1$ en el primer intento es de $\\frac{4}{12}$, luego nos quedarían 11 cartas, de las cuales $3$ son unos dando una probabilidad de $\\frac{3}{11}$. Finalmente sumamos las dos probabilidades obtenidas y nos da una probabilidad total de $0.\\stackrel{\\frown}{42}$"
      ]
    },
    {
      "cell_type": "code",
      "metadata": {
        "id": "93b1rStR8BJU",
        "outputId": "3f6028e3-a732-419f-9989-2676a151ecbb",
        "colab": {
          "base_uri": "https://localhost:8080/",
          "height": 282
        }
      },
      "source": [
        "n=10000000\n",
        "count = 0 \n",
        "avnc = 0\n",
        "nc21=[]\n",
        "for i in range(n):\n",
        "  my_cards = [7,7,5]\n",
        "  hotDeck = [1,1,1,1,2,2,2,2,3,3,3,3]\n",
        "  deck=hotDeck\n",
        "  nc = 3\n",
        "  while(sum(my_cards)<21):\n",
        "      card = random.choice(deck)\n",
        "      my_cards.append(card)\n",
        "      deck.remove(card)\n",
        "      nc=nc+1\n",
        "  if (sum(my_cards)==21):\n",
        "      count=count+1\n",
        "      avnc = avnc+nc\n",
        "      nc21.append(nc)\n",
        "print(\"21 probability\", count/n,\"Average # cards\", avnc/count )\n",
        "plt.hist(nc21,density=True,bins=10)\n",
        "plt.show()"
      ],
      "execution_count": null,
      "outputs": [
        {
          "output_type": "stream",
          "text": [
            "21 probability 0.4242201 Average # cards 4.214395546085629\n"
          ],
          "name": "stdout"
        },
        {
          "output_type": "display_data",
          "data": {
            "image/png": "[encoded data removed]",
            "text/plain": [
              "<Figure size 432x288 with 1 Axes>"
            ]
          },
          "metadata": {
            "tags": [],
            "needs_background": "light"
          }
        }
      ]
    },
    {
      "cell_type": "markdown",
      "metadata": {
        "id": "eG2Ag59wFjlB"
      },
      "source": [
        "5. Estimate the average amount of money (expected value) that Ben wins or losses on a weekend if Ben goes to Vegas every weekend (Friday, Saturday and Sunday), plays every weekend day 10 hours, each game takes 3 mins. Assume that for each game he gets two possibilities, in one he gets in his hand the cards [7,7,5] and a remaining hot deck cards with 12 cards for Alg Gr 1 9-11 and with 10 cards for Alg Gr 2 11-1 which case he bets $\\$1000$ this happens with probability 1/10; in the other one he gets no cards in his hand a complete shuffled deck in which case he bets $10, this happens with the remaining probability 9/10. Use 10000 Montecarlo simulations to estimated the expected amount of money that Ben wins or losses on a weekend for a Spanish 48-card deck with 3 10’s and for a Poker 52-card deck with 4 10’s."
      ]
    },
    {
      "cell_type": "code",
      "metadata": {
        "id": "GeMeR7QFCaUn",
        "outputId": "b9b48723-670c-4ae0-a89e-0ff423f583a6",
        "colab": {
          "base_uri": "https://localhost:8080/",
          "height": 316
        }
      },
      "source": [
        "n=10000\n",
        "count = 0 \n",
        "avnc = 0\n",
        "nc21 = []\n",
        "week = 17\n",
        "p_ganar = 0\n",
        "balance = 0\n",
        "for i in range(n):\n",
        "  my_cards = [7,7,5]\n",
        "  hotDeck = [1,1,1,1,2,2,2,2]#,3,3,3,3]\n",
        "  pokerDeck = [1,2,3,4,6,8,9,10,10,10,10,1,2,3,4,5,6,8,9,10,10,10,10,1,2,3,4,5,6,7,8,9,10,10,10,10,1,2,3,4,5,6,7,8,9,10,10,10,10] \n",
        "  spanishDeck = [1,2,3,4,6,8,9,10,10,10,11,12,1,2,3,4,5,6,8,9,10,10,10,11,12,1,2,3,4,5,6,7,8,9,10,10,10,11,12,1,2,3,4,5,6,7,8,9,10,10,10,11,12]\n",
        "  deck=spanishDeck\n",
        "  rand=random.randint(1,10)\n",
        "  if rand == 1:\n",
        "    deck=hotDeck\n",
        "    balance -=1000\n",
        "  else:\n",
        "    balance -=10\n",
        "  nc = 3\n",
        "  while(sum(my_cards)<21):\n",
        "      card = random.choice(deck)\n",
        "      my_cards.append(card)\n",
        "      deck.remove(card)\n",
        "      nc=nc+1\n",
        "  if (sum(my_cards)==21):\n",
        "      count=count+1\n",
        "      if rand ==1:\n",
        "        balance += 2000\n",
        "        p_ganar += 1     # veces que gana\n",
        "      else:\n",
        "        balance += 20\n",
        "      avnc = avnc+nc\n",
        "      nc21.append(nc)\n",
        "\n",
        "print(p_ganar/n) # probabilidad de ganar  \n",
        "print (\"balance:\", balance/week)\n",
        "print(\"21 probability\", count/n,\"Average # cards\", avnc/count )\n",
        "plt.hist(nc21[0:10000],density=True,bins=10)\n",
        "plt.show()"
      ],
      "execution_count": null,
      "outputs": [
        {
          "output_type": "stream",
          "text": [
            "0.0697\n",
            "balance: 19020.58823529412\n",
            "21 probability 0.1417 Average # cards 4.1679604798870855\n"
          ],
          "name": "stdout"
        },
        {
          "output_type": "display_data",
          "data": {
            "image/png": "[encoded data removed]",
            "text/plain": [
              "<Figure size 432x288 with 1 Axes>"
            ]
          },
          "metadata": {
            "tags": [],
            "needs_background": "light"
          }
        }
      ]
    },
    {
      "cell_type": "markdown",
      "metadata": {
        "id": "foMza324Fx4O"
      },
      "source": [
        "6. Extra credit (one class participation). Calculate analytically the average amount of money (expected values) that Ben wins or losses on a weekend for a Spanish 48-card deck with 3 10’s and for a Poker 52-card deck with 4 10’s."
      ]
    },
    {
      "cell_type": "code",
      "metadata": {
        "id": "0RXij_82eON1",
        "outputId": "ffa9b49d-1bcb-4f06-e19b-740f478cdc4f",
        "colab": {
          "base_uri": "https://localhost:8080/",
          "height": 35
        }
      },
      "source": [
        "600*((1000*0.0697)+(-1000*(1-0.0697)))"
      ],
      "execution_count": null,
      "outputs": [
        {
          "output_type": "execute_result",
          "data": {
            "text/plain": [
              "-516360.0"
            ]
          },
          "metadata": {
            "tags": []
          },
          "execution_count": 2
        }
      ]
    },
    {
      "cell_type": "markdown",
      "metadata": {
        "id": "IqPjo3o4Zci5"
      },
      "source": [
        "7. Extra credit (one class participation) . Calculate analytically the probabilities of having the cards [7,7,5] and a remaining hot deck with 12,10 and 8 cards, assume that you drawing 12+3,10+3 and 8+3 cards from these cards you draw the 3 cards of the hand and verify if you get a hand with [7,7,5] and the remaining deck is a hot deck."
      ]
    },
    {
      "cell_type": "code",
      "metadata": {
        "id": "a1p-Vg0JcTqp",
        "outputId": "90b9ba01-4d80-40bb-f6c2-4b583b5f1619",
        "colab": {
          "base_uri": "https://localhost:8080/",
          "height": 34
        }
      },
      "source": [
        "4/48 * 3/47 + 4/48 + 4/48 * 3/47 * 2/46 * 1/45 * 3"
      ],
      "execution_count": null,
      "outputs": [
        {
          "output_type": "execute_result",
          "data": {
            "text/plain": [
              "0.08866790009250693"
            ]
          },
          "metadata": {
            "tags": []
          },
          "execution_count": 30
        }
      ]
    },
    {
      "cell_type": "code",
      "metadata": {
        "id": "D8-nNZ92fgDr",
        "outputId": "eb678c33-1a7b-44b0-ebc7-466080263a2a",
        "colab": {
          "base_uri": "https://localhost:8080/",
          "height": 34
        }
      },
      "source": [
        "4/48 * 3/47 + 4/48 + 4/48 * 3/47 * 2/46 * 1/45 * 2"
      ],
      "execution_count": null,
      "outputs": [
        {
          "output_type": "execute_result",
          "data": {
            "text/plain": [
              "0.08866276081817247"
            ]
          },
          "metadata": {
            "tags": []
          },
          "execution_count": 31
        }
      ]
    },
    {
      "cell_type": "code",
      "metadata": {
        "id": "zOvrXdiGfhD6",
        "outputId": "dc1df461-a3c2-4803-b278-866d44824545",
        "colab": {
          "base_uri": "https://localhost:8080/",
          "height": 34
        }
      },
      "source": [
        "4/48 * 3/47 + 4/48 + 4/48 * 3/47 * 2/46 * 1/45"
      ],
      "execution_count": null,
      "outputs": [
        {
          "output_type": "execute_result",
          "data": {
            "text/plain": [
              "0.088657621543838"
            ]
          },
          "metadata": {
            "tags": []
          },
          "execution_count": 32
        }
      ]
    },
    {
      "cell_type": "code",
      "metadata": {
        "id": "LTTfNs1nHk96",
        "outputId": "c5303a5e-c464-4f2c-87bc-d64940180a6a",
        "colab": {
          "base_uri": "https://localhost:8080/",
          "height": 299
        }
      },
      "source": [
        "# No está en el taller\n",
        "\n",
        "n = 10000000\n",
        "count = 0 \n",
        "avnc = 0\n",
        "nc21=[]\n",
        "balance=0\n",
        "for i in range(n):\n",
        "  my_cards = [7,7,5]\n",
        "  hotDeck = [1,1,1,1,2,2,2,2,3,3,3,3]\n",
        "  coldDeck = [1,2,3,4,6,8,9,10,11,12,13,1,2,3,4,5,6,8,9,10,11,12,13,1,2,3,4,5,6,7,8,9,10,11,12,13,1,2,3,4,5,6,7,8,9,10,11,12,13]\n",
        "  deck = coldDeck\n",
        "  rand = random.randint(1,10)\n",
        "  if rand == 1:\n",
        "    deck=hotDeck\n",
        "    balance -=1000\n",
        "  else:\n",
        "    balance -=10\n",
        "  nc = 3\n",
        "  while(sum(my_cards)<21):\n",
        "      card = random.choice(deck)\n",
        "      my_cards.append(card)\n",
        "      deck.remove(card)\n",
        "      nc=nc+1\n",
        "  if (sum(my_cards)==21):\n",
        "      count=count+1\n",
        "      if rand ==1:\n",
        "        balance += 2000\n",
        "      else:\n",
        "        balance += 20\n",
        "      avnc = avnc+nc\n",
        "      nc21.append(nc)\n",
        "print (\"balance 12 remaining cards:\", balance)\n",
        "print(\"21 probability\", count/n,\"Average # cards\", avnc/count )\n",
        "plt.hist(nc21[0:10000],density=True,bins=10)\n",
        "plt.show()"
      ],
      "execution_count": null,
      "outputs": [
        {
          "output_type": "stream",
          "text": [
            "balance 12 remaining cards: 2330\n",
            "21 probability 0.11666666666666667 Average # cards 4.142857142857143\n"
          ],
          "name": "stdout"
        },
        {
          "output_type": "display_data",
          "data": {
            "image/png": "[encoded data removed]",
            "text/plain": [
              "<Figure size 432x288 with 1 Axes>"
            ]
          },
          "metadata": {
            "tags": [],
            "needs_background": "light"
          }
        }
      ]
    },
    {
      "cell_type": "code",
      "metadata": {
        "id": "JB64vCMaICjE",
        "outputId": "b97d894f-f0ce-45b3-f4e8-49560cf2cca9",
        "colab": {
          "base_uri": "https://localhost:8080/",
          "height": 302
        }
      },
      "source": [
        "n=10000000\n",
        "count = 0 \n",
        "avnc = 0\n",
        "nc21=[]\n",
        "balance=0\n",
        "for i in range(n):\n",
        "  my_cards = [7,7,5]\n",
        "  hotDeck = [1,1,1,1,2,2,2,2,3,3]\n",
        "  coldDeck=[1,2,3,4,6,8,9,10,11,12,13,1,2,3,4,5,6,8,9,10,11,12,13,1,2,3,4,5,6,7,8,9,10,11,12,13,1,2,3,4,5,6,7,8,9,10,11,12,13]\n",
        "  deck=coldDeck\n",
        "  rand=random.randint(1,10)\n",
        "  if rand== 1:\n",
        "    deck=hotDeck\n",
        "    balance -=1000\n",
        "  else:\n",
        "    balance -=10\n",
        "  nc = 3\n",
        "  while(sum(my_cards)<21):\n",
        "      card = random.choice(deck)\n",
        "      my_cards.append(card)\n",
        "      deck.remove(card)\n",
        "      nc=nc+1\n",
        "  if (sum(my_cards)==21):\n",
        "      count=count+1\n",
        "      if rand ==1:\n",
        "        balance += 2000\n",
        "      else:\n",
        "        balance += 20\n",
        "      avnc = avnc+nc\n",
        "      nc21.append(nc)\n",
        "print (\"balance 10 remaining cards:\", balance)\n",
        "print(\"21 probability\", count/n,\"Average # cards\", avnc/count )\n",
        "plt.hist(nc21[0:10000],density=True,bins=10)\n",
        "plt.show()"
      ],
      "execution_count": null,
      "outputs": [
        {
          "output_type": "stream",
          "text": [
            "balance 10 remaining cards: -675430\n",
            "21 probability 0.131361 Average # cards 1.1359840439704327\n"
          ],
          "name": "stdout"
        },
        {
          "output_type": "display_data",
          "data": {
            "image/png": "[encoded data removed]",
            "text/plain": [
              "<Figure size 432x288 with 1 Axes>"
            ]
          },
          "metadata": {
            "tags": [],
            "needs_background": "light"
          }
        }
      ]
    },
    {
      "cell_type": "code",
      "metadata": {
        "id": "9zQ1V-clIIpn",
        "outputId": "413b6688-e3ad-47fe-e855-8f9529dc9848",
        "colab": {
          "base_uri": "https://localhost:8080/",
          "height": 302
        }
      },
      "source": [
        "n=10000000\n",
        "count = 0 \n",
        "avnc = 0\n",
        "nc21=[]\n",
        "balance=0\n",
        "for i in range(n):\n",
        "  my_cards = [7,7,5]\n",
        "  hotDeck = [1,1,1,1,2,2,2,2]\n",
        "  coldDeck=[1,2,3,4,6,8,9,10,11,12,13,1,2,3,4,5,6,8,9,10,11,12,13,1,2,3,4,5,6,7,8,9,10,11,12,13,1,2,3,4,5,6,7,8,9,10,11,12,13]\n",
        "  deck=coldDeck\n",
        "  rand=random.randint(1,10)\n",
        "  if rand== 1:\n",
        "    deck=hotDeck\n",
        "    balance -=1000\n",
        "  else:\n",
        "    balance -=10\n",
        "  nc = 3\n",
        "  while(sum(my_cards)<21):\n",
        "      card = random.choice(deck)\n",
        "      my_cards.append(card)\n",
        "      deck.remove(card)\n",
        "      nc=nc+1\n",
        "  if (sum(my_cards)==21):\n",
        "      count=count+1\n",
        "      if rand ==1:\n",
        "        balance += 2000\n",
        "      else:\n",
        "        balance += 20\n",
        "      avnc = avnc+nc\n",
        "      nc21.append(nc)\n",
        "print (\"balance 8 remaining cards:\", balance)\n",
        "print(\"21 probability\", count/n,\"Average # cards\", avnc/count )\n",
        "plt.hist(nc21[0:10000],density=True,bins=10)\n",
        "plt.show()"
      ],
      "execution_count": null,
      "outputs": [
        {
          "output_type": "stream",
          "text": [
            "balance 8 remaining cards: 35495510\n",
            "21 probability 0.150087 Average # cards 1.172806438932086\n"
          ],
          "name": "stdout"
        },
        {
          "output_type": "display_data",
          "data": {
            "image/png": "[encoded data removed]",
            "text/plain": [
              "<Figure size 432x288 with 1 Axes>"
            ]
          },
          "metadata": {
            "tags": [],
            "needs_background": "light"
          }
        }
      ]
    }
  ]
}