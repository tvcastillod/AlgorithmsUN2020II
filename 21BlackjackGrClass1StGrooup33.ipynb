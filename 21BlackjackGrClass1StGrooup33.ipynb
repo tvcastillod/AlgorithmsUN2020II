{
  "nbformat": 4,
  "nbformat_minor": 0,
  "metadata": {
    "colab": {
      "name": "21BlackjackGrClass1StGrooup33.ipynb",
      "provenance": [],
      "collapsed_sections": []
    },
    "kernelspec": {
      "name": "python3",
      "display_name": "Python 3"
    }
  },
  "cells": [
    {
      "cell_type": "markdown",
      "metadata": {
        "id": "YJm3RXYFE6Dh",
        "colab_type": "text"
      },
      "source": [
        "1. Calculate the probability of getting a 21 drawing cards sequentially from shuffled Spanish 48-deck with card values [1,2,3,4,5,6,7,10,11,12,1,2,3,4,5,6,7,8,9,10,11,12,1,2,3,4,5,6,7,8,9,10,11,12,1,2,3,4,5,6,7,8,9,10,11,12] and from a shuffled Poker 52-card with card values [1,2,3,4,5,6,7,8,9,10,11,12,13,1,2,3,4,5,6,7,8,9,10,11,12,13,1,2,3,4,5,6,7,8,9,10,11,12,13,1,2,3,4,5,6,7,8,9,10,11,12,13]. Plot the experimental distribution of the numbers of card requires to complete 21 in 10000 trials."
      ]
    },
    {
      "cell_type": "code",
      "metadata": {
        "id": "Y_iNfwCKUjSe",
        "colab_type": "code",
        "colab": {
          "base_uri": "https://localhost:8080/",
          "height": 283
        },
        "outputId": "013665b4-3afa-48a4-886a-6068460e9aa6"
      },
      "source": [
        "import random \n",
        "import matplotlib.pyplot as plt\n",
        "\n",
        "n=10000\n",
        "count = 0 \n",
        "avnc = 0\n",
        "nc21=[]\n",
        "for i in range(n):\n",
        "  spanishDeck = [1,2,3,4,5,6,7,10,11,12,1,2,3,4,5,6,7,8,9,10,11,12,1,2,3,4,5,6,7,8,9,10,11,12,1,2,3,4,5,6,7,8,9,10,11,12]\n",
        "  pokerDeck = [1,2,3,4,5,6,7,8,9,10,11,12,13,1,2,3,4,5,6,7,8,9,10,11,12,13,1,2,3,4,5,6,7,8,9,10,11,12,13,1,2,3,4,5,6,7,8,9,10,11,12,13]\n",
        "  my_cards = []\n",
        "  nc =0\n",
        "  deck=spanishDeck\n",
        "  while(sum(my_cards)<21):\n",
        "      card = random.choice(deck)\n",
        "      my_cards.append(card)\n",
        "      deck.remove(card)\n",
        "      nc=nc+1\n",
        "  if (sum(my_cards)==21):\n",
        "      count=count+1\n",
        "      avnc = avnc+nc\n",
        "      nc21.append(nc)\n",
        "print(\"21 probability\", count/n,\"Average # cards\", avnc/count )\n",
        "plt.hist(nc21,density=True,bins=30)\n",
        "plt.show()\n"
      ],
      "execution_count": null,
      "outputs": [
        {
          "output_type": "stream",
          "text": [
            "21 probability 0.1554 Average # cards 3.521879021879022\n"
          ],
          "name": "stdout"
        },
        {
          "output_type": "display_data",
          "data": {
            "image/png": "[encoded data removed]",
            "text/plain": [
              "<Figure size 432x288 with 1 Axes>"
            ]
          },
          "metadata": {
            "tags": [],
            "needs_background": "light"
          }
        }
      ]
    },
    {
      "cell_type": "markdown",
      "metadata": {
        "id": "RUrgBnIyFCwv",
        "colab_type": "text"
      },
      "source": [
        "2. Calculate the probability of getting a 21 drawing cards sequentially from shuffled Spanish 48-deck with card values are [1,2,3,4,5,6,7,8,9,,10,10,10,1,2,3,4,5,6,7,8,9,,10,10,10,1,2,3,4,5,6,7,8,9,10,10,10,1,2,3,4,5,6,7,8,9,,10,10,10] and [1,2,3,4,5,6,7,8,9,10,10,10,10,1,2,3,4,5,6,7,8,9,10,10,10,10,1,2,3,4,5,6,7,8,9,10,10,10,10,1,2,3,4,5,6,7,8,9,10,10,10,10] for the Spanish and Poker card decks. Plot the experimental distribution of the numbers of card requires to complete 21 in 10000 simulations."
      ]
    },
    {
      "cell_type": "code",
      "metadata": {
        "id": "6EgzLtMWcTpL",
        "colab_type": "code",
        "colab": {
          "base_uri": "https://localhost:8080/",
          "height": 283
        },
        "outputId": "82afb49c-0b79-448f-aeb0-8e9f6d596266"
      },
      "source": [
        "n=10000\n",
        "count = 0 \n",
        "avnc = 0\n",
        "nc21=[]\n",
        "for i in range(n):\n",
        "  shuffledDeck = [1,2,3,4,5,6,7,8,9,10,10,10,1,2,3,4,5,6,7,8,9,10,10,10,1,2,3,4,5,6,7,8,9,10,10,10,1,2,3,4,5,6,7,8,9,10,10,10]\n",
        "  shuffledDeck2 = [1,2,3,4,5,6,7,8,9,10,10,10,10,1,2,3,4,5,6,7,8,9,10,10,10,10,1,2,3,4,5,6,7,8,9,10,10,10,10,1,2,3,4,5,6,7,8,9,10,10,10,10] \n",
        "  my_cards = []\n",
        "  nc =0\n",
        "  deck=shuffledDeck\n",
        "  while(sum(my_cards)<21):\n",
        "      card = random.choice(deck)\n",
        "      my_cards.append(card)\n",
        "      deck.remove(card)\n",
        "      nc=nc+1\n",
        "  if (sum(my_cards)==21):\n",
        "      count=count+1\n",
        "      avnc = avnc+nc\n",
        "      nc21.append(nc)\n",
        "print(\"21 probability\", count/n,\"Average # cards\", avnc/count )\n",
        "plt.hist(nc21,density=True,bins=30)\n",
        "plt.show()\n"
      ],
      "execution_count": null,
      "outputs": [
        {
          "output_type": "stream",
          "text": [
            "21 probability 0.1426 Average # cards 3.6507713884992987\n"
          ],
          "name": "stdout"
        },
        {
          "output_type": "display_data",
          "data": {
            "image/png": "[encoded data removed]",
            "text/plain": [
              "<Figure size 432x288 with 1 Axes>"
            ]
          },
          "metadata": {
            "tags": [],
            "needs_background": "light"
          }
        }
      ]
    },
    {
      "cell_type": "markdown",
      "metadata": {
        "id": "yxehDB-BFGez",
        "colab_type": "text"
      },
      "source": [
        "3. Calculate the probability of getting a 21, with the Spanish and Poker card deck, assuming that you are in the middle of game and the remaining deck has n/2 card and you have the cards [7,7,5]. You pick arbitrary what card are in the remaining deck with the only restriction that there are be maximum two 7s and three 5s). Plot the experimental distribution of the numbers of card requires to complete 21 in 10000 simulations."
      ]
    },
    {
      "cell_type": "code",
      "metadata": {
        "id": "RChDavfzgjN5",
        "colab_type": "code",
        "colab": {
          "base_uri": "https://localhost:8080/",
          "height": 283
        },
        "outputId": "4f3db8a9-0846-4829-a119-2c2ed4b4d48e"
      },
      "source": [
        "n=10000\n",
        "count = 0 \n",
        "avnc = 0\n",
        "nc21=[]\n",
        "for i in range(n):\n",
        "  my_cards = [7,7,5]\n",
        "  pokerDeck = [1,2,3,4,6,8,9,10,11,12,13,1,2,3,4,5,6,8,9,10,11,12,13,1,2,3,4,5,6,7,8,9,10,11,12,13,1,2,3,4,5,6,7,8,9,10,11,12,13]\n",
        "  spanishDeck = [1,2,3,4,6,10,11,12,1,2,3,4,5,6,8,9,10,11,12,1,2,3,4,5,6,7,8,9,10,11,12,1,2,3,4,5,6,7,8,9,10,11,12]\n",
        "  deck=spanishDeck\n",
        "  for j in range(int(len(deck)/2)-3): \n",
        "    card = random.choice(deck)\n",
        "    deck.remove(card) \n",
        "  nc =0\n",
        "  while(sum(my_cards)<21):\n",
        "      card = random.choice(deck)\n",
        "      my_cards.append(card)\n",
        "      deck.remove(card)\n",
        "      nc=nc+1\n",
        "  if (sum(my_cards)==21):\n",
        "      count=count+1\n",
        "      avnc = avnc+nc\n",
        "      nc21.append(nc)\n",
        "print(\"21 probability\", count/n,\"Average # cards\", avnc/count )\n",
        "plt.hist(nc21,density=True,bins=10)\n",
        "plt.show()"
      ],
      "execution_count": null,
      "outputs": [
        {
          "output_type": "stream",
          "text": [
            "21 probability 0.0971 Average # cards 1.0679711637487126\n"
          ],
          "name": "stdout"
        },
        {
          "output_type": "display_data",
          "data": {
            "image/png": "[encoded data removed]",
            "text/plain": [
              "<Figure size 432x288 with 1 Axes>"
            ]
          },
          "metadata": {
            "tags": [],
            "needs_background": "light"
          }
        }
      ]
    },
    {
      "cell_type": "markdown",
      "metadata": {
        "id": "kB5v8zxHCKoV",
        "colab_type": "text"
      },
      "source": [
        "4. Find remaining decks for Spanish and Poker card decks, with the number of cards according to the list below, with highest (hot deck) and lowest (cold deck) probabilities of getting 21 assuming that you have cards [7,7,5]. calculate the probabilities analytically and verify them with Montecarlo. Plot the experimental distribution of the numbers of card requires to complete 21 in 10000 simulations.\n",
        "\n",
        "\n",
        "Como se tienen las cartas $[7,7,5]$, la suma de estas es igual a $19$ y por tanto necesitamos un $2$ para completar el $21$. Para ello se tienen dos opciones: una carta con el número dos o dos cartas con el número $1$. La probabilidad de sacar un $2$ del 'hot deck' es de $\\frac{4}{12}$, ya que tenemos $4$ cartas de $2$ y $12$ cartas en la baraja. Por otro lado, la probabilidad de sacar dos cartas de $1$ sería igual a $\\frac{4}{12}\\cdot\\frac{3}{11}$ ya que la probabilidad de sacar $1$ en el primer intento es de $\\frac{4}{12}$, luego nos quedarían 11 cartas, de las cuales $3$ son unos dando una probabilidad de $\\frac{3}{11}$. Finalmente sumamos las dos probabilidades obtenidas y nos da una probabilidad total de $0.\\stackrel{\\frown}{42}$"
      ]
    },
    {
      "cell_type": "code",
      "metadata": {
        "id": "93b1rStR8BJU",
        "colab_type": "code",
        "colab": {
          "base_uri": "https://localhost:8080/",
          "height": 283
        },
        "outputId": "e30a1b0c-106f-43ec-df6d-0cf7fff21b61"
      },
      "source": [
        "n=10000\n",
        "count = 0 \n",
        "avnc = 0\n",
        "nc21=[]\n",
        "for i in range(n):\n",
        "  my_cards = [7,7,5]\n",
        "  hotDeck = [1,1,1,1,2,2,2,2,3,3,3,3]\n",
        "  deck=hotDeck\n",
        "  nc =0\n",
        "  while(sum(my_cards)<21):\n",
        "      card = random.choice(deck)\n",
        "      my_cards.append(card)\n",
        "      deck.remove(card)\n",
        "      nc=nc+1\n",
        "  if (sum(my_cards)==21):\n",
        "      count=count+1\n",
        "      avnc = avnc+nc\n",
        "      nc21.append(nc)\n",
        "print(\"21 probability\", count/n,\"Average # cards\", avnc/count )\n",
        "plt.hist(nc21,density=True,bins=10)\n",
        "plt.show()"
      ],
      "execution_count": null,
      "outputs": [
        {
          "output_type": "stream",
          "text": [
            "21 probability 0.4244 Average # cards 1.2021677662582468\n"
          ],
          "name": "stdout"
        },
        {
          "output_type": "display_data",
          "data": {
            "image/png": "[encoded data removed]",
            "text/plain": [
              "<Figure size 432x288 with 1 Axes>"
            ]
          },
          "metadata": {
            "tags": [],
            "needs_background": "light"
          }
        }
      ]
    },
    {
      "cell_type": "markdown",
      "metadata": {
        "id": "eG2Ag59wFjlB",
        "colab_type": "text"
      },
      "source": [
        "5. If Ben goes to Vegas every weekend (Friday, Saturday and Sunday), plays every weekend day 10 hours, each game takes 3 mins. He gets the cards [7,7,5] and a remaining hot deck with probability 1/10, the cards in hot deck are the ones obtained in the previous quiz point 4. Asume that for cold decks the Ben has no cards and the remaining deck is the complete deck. He bets $\\$1000$ on hot decks and $10 on cold decks. What is the estimated amount of money that Ben wins or losses on a weekend estimated with 10 million simulations using both the Spanish and Poker card decks? Plot the experimental distribution of the numbers of card requires to complete 21 in 10000 simulations."
      ]
    },
    {
      "cell_type": "code",
      "metadata": {
        "id": "GeMeR7QFCaUn",
        "colab_type": "code",
        "colab": {
          "base_uri": "https://localhost:8080/",
          "height": 302
        },
        "outputId": "b281c214-95fd-46db-a3d5-1f459be553c4"
      },
      "source": [
        "n=1000000\n",
        "count = 0 \n",
        "avnc = 0\n",
        "nc21=[]\n",
        "balance=0\n",
        "for i in range(n):\n",
        "  my_cards = [7,7,5]\n",
        "  hotDeck = [1,1,1,1,2,2,2,2,3,3,3,3]\n",
        "  coldDeck=[1,2,3,4,6,8,9,10,11,12,13,1,2,3,4,5,6,8,9,10,11,12,13,1,2,3,4,5,6,7,8,9,10,11,12,13,1,2,3,4,5,6,7,8,9,10,11,12,13]\n",
        "  deck=coldDeck\n",
        "  rand=random.randint(1,10)\n",
        "  if rand== 1:\n",
        "    deck=hotDeck\n",
        "    balance -=1000\n",
        "  else:\n",
        "    balance -=10\n",
        "  nc =0\n",
        "  while(sum(my_cards)<21):\n",
        "      card = random.choice(deck)\n",
        "      my_cards.append(card)\n",
        "      deck.remove(card)\n",
        "      nc=nc+1\n",
        "  if (sum(my_cards)==21):\n",
        "      count=count+1\n",
        "      if rand ==1:\n",
        "        balance += 2000\n",
        "      else:\n",
        "        balance += 20\n",
        "      avnc = avnc+nc\n",
        "      nc21.append(nc)\n",
        "print (\"balance:\", balance)\n",
        "print(\"21 probability\", count/n,\"Average # cards\", avnc/count )\n",
        "plt.hist(nc21[0:10000],density=True,bins=10)\n",
        "plt.show()\n",
        "\n"
      ],
      "execution_count": null,
      "outputs": [
        {
          "output_type": "stream",
          "text": [
            "balance: -22996380\n",
            "21 probability 0.1205 Average # cards 1.1130539419087138\n"
          ],
          "name": "stdout"
        },
        {
          "output_type": "display_data",
          "data": {
            "image/png": "[encoded data removed]",
            "text/plain": [
              "<Figure size 432x288 with 1 Axes>"
            ]
          },
          "metadata": {
            "tags": [],
            "needs_background": "light"
          }
        }
      ]
    },
    {
      "cell_type": "markdown",
      "metadata": {
        "id": "foMza324Fx4O",
        "colab_type": "text"
      },
      "source": [
        "6. Extra credit (one class participation) . Calculate the probabilities of having the cards [7,7,5] and a remaining hot deck with 12,10 and 8 cards. Calculate the estimated amount of money that Ben wins or losses on a weekend estimated with 10 million simulations with these probabilities and the same assumptions in previous quiz point 5 and using both the Spanish and Poker card decks."
      ]
    },
    {
      "cell_type": "code",
      "metadata": {
        "id": "LTTfNs1nHk96",
        "colab_type": "code",
        "colab": {
          "base_uri": "https://localhost:8080/",
          "height": 302
        },
        "outputId": "14bcb23b-8207-4d9a-e878-6559e09ef9c6"
      },
      "source": [
        "n=1000000\n",
        "count = 0 \n",
        "avnc = 0\n",
        "nc21=[]\n",
        "balance=0\n",
        "for i in range(n):\n",
        "  my_cards = [7,7,5]\n",
        "  hotDeck = [1,1,1,1,2,2,2,2,3,3,3,3]\n",
        "  coldDeck=[1,2,3,4,6,8,9,10,11,12,13,1,2,3,4,5,6,8,9,10,11,12,13,1,2,3,4,5,6,7,8,9,10,11,12,13,1,2,3,4,5,6,7,8,9,10,11,12,13]\n",
        "  deck=coldDeck\n",
        "  rand=random.randint(1,10)\n",
        "  if rand== 1:\n",
        "    deck=hotDeck\n",
        "    balance -=1000\n",
        "  else:\n",
        "    balance -=10\n",
        "  nc =0\n",
        "  while(sum(my_cards)<21):\n",
        "      card = random.choice(deck)\n",
        "      my_cards.append(card)\n",
        "      deck.remove(card)\n",
        "      nc=nc+1\n",
        "  if (sum(my_cards)==21):\n",
        "      count=count+1\n",
        "      if rand ==1:\n",
        "        balance += 2000\n",
        "      else:\n",
        "        balance += 20\n",
        "      avnc = avnc+nc\n",
        "      nc21.append(nc)\n",
        "print (\"balance 12 remaining cards:\", balance)\n",
        "print(\"21 probability\", count/n,\"Average # cards\", avnc/count )\n",
        "plt.hist(nc21[0:10000],density=True,bins=10)\n",
        "plt.show()"
      ],
      "execution_count": null,
      "outputs": [
        {
          "output_type": "stream",
          "text": [
            "balance 12 remaining cards: -22616330\n",
            "21 probability 0.120247 Average # cards 1.1132668590484587\n"
          ],
          "name": "stdout"
        },
        {
          "output_type": "display_data",
          "data": {
            "image/png": "[encoded data removed]",
            "text/plain": [
              "<Figure size 432x288 with 1 Axes>"
            ]
          },
          "metadata": {
            "tags": [],
            "needs_background": "light"
          }
        }
      ]
    },
    {
      "cell_type": "code",
      "metadata": {
        "id": "JB64vCMaICjE",
        "colab_type": "code",
        "colab": {
          "base_uri": "https://localhost:8080/",
          "height": 302
        },
        "outputId": "b97d894f-f0ce-45b3-f4e8-49560cf2cca9"
      },
      "source": [
        "n=1000000\n",
        "count = 0 \n",
        "avnc = 0\n",
        "nc21=[]\n",
        "balance=0\n",
        "for i in range(n):\n",
        "  my_cards = [7,7,5]\n",
        "  hotDeck = [1,1,1,1,2,2,2,2,3,3]\n",
        "  coldDeck=[1,2,3,4,6,8,9,10,11,12,13,1,2,3,4,5,6,8,9,10,11,12,13,1,2,3,4,5,6,7,8,9,10,11,12,13,1,2,3,4,5,6,7,8,9,10,11,12,13]\n",
        "  deck=coldDeck\n",
        "  rand=random.randint(1,10)\n",
        "  if rand== 1:\n",
        "    deck=hotDeck\n",
        "    balance -=1000\n",
        "  else:\n",
        "    balance -=10\n",
        "  nc =0\n",
        "  while(sum(my_cards)<21):\n",
        "      card = random.choice(deck)\n",
        "      my_cards.append(card)\n",
        "      deck.remove(card)\n",
        "      nc=nc+1\n",
        "  if (sum(my_cards)==21):\n",
        "      count=count+1\n",
        "      if rand ==1:\n",
        "        balance += 2000\n",
        "      else:\n",
        "        balance += 20\n",
        "      avnc = avnc+nc\n",
        "      nc21.append(nc)\n",
        "print (\"balance 10 remaining cards:\", balance)\n",
        "print(\"21 probability\", count/n,\"Average # cards\", avnc/count )\n",
        "plt.hist(nc21[0:10000],density=True,bins=10)\n",
        "plt.show()"
      ],
      "execution_count": null,
      "outputs": [
        {
          "output_type": "stream",
          "text": [
            "balance 10 remaining cards: -675430\n",
            "21 probability 0.131361 Average # cards 1.1359840439704327\n"
          ],
          "name": "stdout"
        },
        {
          "output_type": "display_data",
          "data": {
            "image/png": "[encoded data removed]",
            "text/plain": [
              "<Figure size 432x288 with 1 Axes>"
            ]
          },
          "metadata": {
            "tags": [],
            "needs_background": "light"
          }
        }
      ]
    },
    {
      "cell_type": "code",
      "metadata": {
        "id": "9zQ1V-clIIpn",
        "colab_type": "code",
        "colab": {
          "base_uri": "https://localhost:8080/",
          "height": 302
        },
        "outputId": "413b6688-e3ad-47fe-e855-8f9529dc9848"
      },
      "source": [
        "n=1000000\n",
        "count = 0 \n",
        "avnc = 0\n",
        "nc21=[]\n",
        "balance=0\n",
        "for i in range(n):\n",
        "  my_cards = [7,7,5]\n",
        "  hotDeck = [1,1,1,1,2,2,2,2]\n",
        "  coldDeck=[1,2,3,4,6,8,9,10,11,12,13,1,2,3,4,5,6,8,9,10,11,12,13,1,2,3,4,5,6,7,8,9,10,11,12,13,1,2,3,4,5,6,7,8,9,10,11,12,13]\n",
        "  deck=coldDeck\n",
        "  rand=random.randint(1,10)\n",
        "  if rand== 1:\n",
        "    deck=hotDeck\n",
        "    balance -=1000\n",
        "  else:\n",
        "    balance -=10\n",
        "  nc =0\n",
        "  while(sum(my_cards)<21):\n",
        "      card = random.choice(deck)\n",
        "      my_cards.append(card)\n",
        "      deck.remove(card)\n",
        "      nc=nc+1\n",
        "  if (sum(my_cards)==21):\n",
        "      count=count+1\n",
        "      if rand ==1:\n",
        "        balance += 2000\n",
        "      else:\n",
        "        balance += 20\n",
        "      avnc = avnc+nc\n",
        "      nc21.append(nc)\n",
        "print (\"balance 8 remaining cards:\", balance)\n",
        "print(\"21 probability\", count/n,\"Average # cards\", avnc/count )\n",
        "plt.hist(nc21[0:10000],density=True,bins=10)\n",
        "plt.show()"
      ],
      "execution_count": null,
      "outputs": [
        {
          "output_type": "stream",
          "text": [
            "balance 8 remaining cards: 35495510\n",
            "21 probability 0.150087 Average # cards 1.172806438932086\n"
          ],
          "name": "stdout"
        },
        {
          "output_type": "display_data",
          "data": {
            "image/png": "[encoded data removed]",
            "text/plain": [
              "<Figure size 432x288 with 1 Axes>"
            ]
          },
          "metadata": {
            "tags": [],
            "needs_background": "light"
          }
        }
      ]
    }
  ]
}