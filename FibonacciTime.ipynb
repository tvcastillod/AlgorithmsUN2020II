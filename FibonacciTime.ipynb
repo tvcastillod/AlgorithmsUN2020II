{
  "nbformat": 4,
  "nbformat_minor": 0,
  "metadata": {
    "colab": {
      "name": "FibonacciTime",
      "provenance": [],
      "collapsed_sections": []
    },
    "kernelspec": {
      "name": "python3",
      "display_name": "Python 3"
    }
  },
  "cells": [
    {
      "cell_type": "markdown",
      "metadata": {
        "id": "AuFp4-lIVthX"
      },
      "source": [
        "# **Laboratorio 10**"
      ]
    },
    {
      "cell_type": "markdown",
      "metadata": {
        "id": "RBO1Sm4nfKWV"
      },
      "source": [
        "**PARTE 2.** ***Fibonacci time*** \r\n",
        "\r\n",
        "\r\n",
        "Plot of the *recursive Fibonacci time* [0,50] and the iterative Fibonacci time [0,500] including the line y=n to compare in a Colab notebook and upload the notebook in ***FibonacciTime.ipynb*** in the group’s github."
      ]
    },
    {
      "cell_type": "code",
      "metadata": {
        "colab": {
          "base_uri": "https://localhost:8080/"
        },
        "id": "633ge8eW5OWt",
        "outputId": "22010556-f043-460e-ba3c-c8f14102c3ea"
      },
      "source": [
        "from google.colab import drive\r\n",
        "drive.mount('/content/drive')"
      ],
      "execution_count": 1,
      "outputs": [
        {
          "output_type": "stream",
          "text": [
            "Mounted at /content/drive\n"
          ],
          "name": "stdout"
        }
      ]
    },
    {
      "cell_type": "code",
      "metadata": {
        "id": "JkXRJRxlgD4B"
      },
      "source": [
        "def recursiveFibonacci(n):\r\n",
        "  if n <= 1:\r\n",
        "    return n\r\n",
        "  else:\r\n",
        "    return (recursiveFibonacci(n-1) + recursiveFibonacci(n-2))"
      ],
      "execution_count": 2,
      "outputs": []
    },
    {
      "cell_type": "code",
      "metadata": {
        "id": "nSBHYbuBgHgT"
      },
      "source": [
        "import time\r\n",
        "\r\n",
        "numbers = [m for m in range (51)]\r\n",
        "times = [-1 for n in range (51)]\r\n",
        "\r\n",
        "start_time = time.time()\r\n",
        "for i in range (len(numbers)):\r\n",
        "  recursiveFibonacci(numbers[i])\r\n",
        "  print(i)\r\n",
        "  times[i] = (time.time() - start_time)\r\n",
        "  #debido a que el tiempo de ejecución fue amplio, se guardaron los datos en un txt,\r\n",
        "  #posteriormente para su uso simplemente se copia y pega la información\r\n",
        "  with open(\"/content/drive/MyDrive/2020-2S/ALGORITMOS/time_data.txt\", 'a') as f:\r\n",
        "            f.write(str(times[i])+\",\")\r\n",
        "  start_time = time.time()\r\n",
        "\r\n",
        "#print(times)"
      ],
      "execution_count": null,
      "outputs": []
    },
    {
      "cell_type": "code",
      "metadata": {
        "id": "CRyoageGgMtV"
      },
      "source": [
        "def iterativeFibonacci(n):\r\n",
        "    a, b = 0, 1\r\n",
        "    for i in range(n):\r\n",
        "        a, b = b, a + b\r\n",
        "    return a"
      ],
      "execution_count": 3,
      "outputs": []
    },
    {
      "cell_type": "code",
      "metadata": {
        "id": "d2sRSoJ8gP5t"
      },
      "source": [
        "import time\r\n",
        "\r\n",
        "numbers = [m for m in range (51)]\r\n",
        "times = [-1 for n in range (51)]\r\n",
        "\r\n",
        "start_time = time.time()\r\n",
        "for i in range (len(numbers)):\r\n",
        "  iterativeFibonacci(numbers[i])\r\n",
        "  times[i] = (time.time() - start_time)\r\n",
        "  start_time = time.time()"
      ],
      "execution_count": 4,
      "outputs": []
    },
    {
      "cell_type": "code",
      "metadata": {
        "colab": {
          "base_uri": "https://localhost:8080/",
          "height": 295
        },
        "id": "TKMyBm5tgTY7",
        "outputId": "abecc945-2278-4a80-f65b-c32f4c480171"
      },
      "source": [
        "from pylab import * \r\n",
        "import matplotlib.pyplot as plt\r\n",
        "\r\n",
        "#los datos fueron guardados en un archivo txt y estos fueron los resultados\r\n",
        "data_time = [0.0002162456512451172,0.0003001689910888672,0.0011801719665527344,0.0007374286651611328,0.0007405281066894531,8.630752563476562e-05,0.00010251998901367188,0.00011134147644042969,0.00013184547424316406,0.0001361370086669922,0.00011992454528808594,0.0001671314239501953,0.00018453598022460938,0.00020241737365722656,0.0003247261047363281,0.0003533363342285156,0.0004725456237792969,0.0007014274597167969,0.0010178089141845703,0.002119302749633789,0.0024995803833007812,0.004230499267578125,0.009592533111572266,0.01047658920288086,0.016532421112060547,0.02631664276123047,0.04415488243103027,0.06951022148132324,0.11139917373657227,0.1834416389465332,0.29152584075927734,0.4796013832092285,0.7538888454437256,1.2162978649139404,1.9676363468170166,3.177314281463623,5.1462156772613525,8.310202360153198,13.465224504470825,21.773308515548706,35.29947519302368,57.15582513809204,92.663809299469,150.65571522712708,242.96133470535278,392.32102823257446,635.5977056026459,1025.6046669483185,1659.4229621887207,2684.43709731102,4344.018990039825]\r\n",
        "\r\n",
        "plt.plot(data_time)\r\n",
        "plt.plot(times)\r\n",
        "plt.plot(arange(50.))\r\n",
        "plt.title(\"time comparison\")\r\n",
        "plt.ylabel('time')\r\n",
        "plt.xlabel('n fibonacci')\r\n",
        "plt.show()"
      ],
      "execution_count": 5,
      "outputs": [
        {
          "output_type": "display_data",
          "data": {
            "image/png": "[encoded data removed]",
            "text/plain": [
              "<Figure size 432x288 with 1 Axes>"
            ]
          },
          "metadata": {
            "tags": [],
            "needs_background": "light"
          }
        }
      ]
    }
  ]
}