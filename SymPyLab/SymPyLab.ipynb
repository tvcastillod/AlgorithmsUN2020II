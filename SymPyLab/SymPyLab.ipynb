{
  "nbformat": 4,
  "nbformat_minor": 0,
  "metadata": {
    "colab": {
      "name": "SymPyLab.ipynb",
      "provenance": [],
      "collapsed_sections": [
        "eaqIgmnkPNVT"
      ]
    },
    "kernelspec": {
      "name": "python3",
      "display_name": "Python 3"
    }
  },
  "cells": [
    {
      "cell_type": "markdown",
      "metadata": {
        "id": "vtY1shFnMal_"
      },
      "source": [
        "# SymPyLab\n",
        "\n",
        "SymPy’s documentation\n",
        "- https://docs.sympy.org/latest/index.html\n"
      ]
    },
    {
      "cell_type": "markdown",
      "metadata": {
        "id": "2U0fAIf5G4rR"
      },
      "source": [
        "## SymPy’s polynomials \n",
        "- https://docs.sympy.org/latest/modules/polys/basics.html#polynomials \n",
        "\n",
        "- (x-1)(x-2)(x-3)(x-4)(x-5)(x-6)(x-7)(x-8)(x-9)(x-10)"
      ]
    },
    {
      "cell_type": "markdown",
      "metadata": {
        "id": "tehHOUeUYozV"
      },
      "source": [
        "<img src=\"https://raw.githubusercontent.com/tvcastillod/AlgorithmsUN2020II/master/SymPyLab/sympylabwolfram1.png\" />"
      ]
    },
    {
      "cell_type": "code",
      "metadata": {
        "id": "Fw1yPZWLMb5P",
        "outputId": "028302f7-498f-4f93-ac04-287aa812f924",
        "colab": {
          "base_uri": "https://localhost:8080/"
        }
      },
      "source": [
        "from sympy import Symbol\n",
        "from sympy import div\n",
        "\n",
        "x = Symbol('x')\n",
        "\n",
        "p = (x-1)*(x-2)*(x-3)*(x-4)*(x-5)*(x-6)*(x-7)*(x-8)*(x-9)*(x-10)\n",
        "\n",
        "p, r = div(p,  x-1)\n",
        "\n",
        "print(p)\n",
        "print(r)\n",
        "\n",
        "p, r = div(p,  x-2)\n",
        "\n",
        "print(p)\n",
        "print(r)\n",
        "\n",
        "p, r = div(p,  x-3)\n",
        "\n",
        "print(p)\n",
        "print(r)\n",
        "\n",
        "p, r = div(p,  x-4)\n",
        "\n",
        "print(p)\n",
        "print(r)"
      ],
      "execution_count": 1,
      "outputs": [
        {
          "output_type": "stream",
          "text": [
            "x**9 - 54*x**8 + 1266*x**7 - 16884*x**6 + 140889*x**5 - 761166*x**4 + 2655764*x**3 - 5753736*x**2 + 6999840*x - 3628800\n",
            "0\n",
            "x**8 - 52*x**7 + 1162*x**6 - 14560*x**5 + 111769*x**4 - 537628*x**3 + 1580508*x**2 - 2592720*x + 1814400\n",
            "0\n",
            "x**7 - 49*x**6 + 1015*x**5 - 11515*x**4 + 77224*x**3 - 305956*x**2 + 662640*x - 604800\n",
            "0\n",
            "x**6 - 45*x**5 + 835*x**4 - 8175*x**3 + 44524*x**2 - 127860*x + 151200\n",
            "0\n"
          ],
          "name": "stdout"
        }
      ]
    },
    {
      "cell_type": "markdown",
      "metadata": {
        "id": "-IajEihvagIL"
      },
      "source": [
        "<img src=\"https://raw.githubusercontent.com/tvcastillod/AlgorithmsUN2020II/master/SymPyLab/sympylabwolfram2.png\" />"
      ]
    },
    {
      "cell_type": "code",
      "metadata": {
        "id": "UEYHm59IS_n2",
        "outputId": "6e453b00-5783-4dd4-d9ea-c4a370061e48",
        "colab": {
          "base_uri": "https://localhost:8080/",
          "height": 1000
        }
      },
      "source": [
        "from sympy.plotting import plot as symplot\n",
        "from sympy import * \n",
        "x = Symbol('x') \n",
        "symplot((x-1)*(x-2)*(x-3)*(x-4)*(x-5)*(x-6)*(x-7)*(x-8)*(x-9)*(x-10), ylim = (-50000,50000), xlim = (0,11),line_color='red', title = \"polinomio original\")\n",
        "symplot(((x-1)*(x-2)*(x-3)*(x-4)*(x-5)*(x-6)*(x-7)*(x-8)*(x-9)*(x-10))/(x-1), ylim = (-50000,50000), xlim = (0,11),line_color='red', title = \"polinomio 2\")\n",
        "symplot(((x-1)*(x-2)*(x-3)*(x-4)*(x-5)*(x-6)*(x-7)*(x-8)*(x-9)*(x-10))/(x-2), ylim = (-50000,50000), xlim = (0,11),line_color='red', title = \"polinomio 3\")\n",
        "symplot(((x-1)*(x-2)*(x-3)*(x-4)*(x-5)*(x-6)*(x-7)*(x-8)*(x-9)*(x-10))/(x-3), ylim = (-50000,50000), xlim = (0,11),line_color='red', title = \"polinomio 4\")\n",
        "symplot(((x-1)*(x-2)*(x-3)*(x-4)*(x-5)*(x-6)*(x-7)*(x-8)*(x-9)*(x-10))/(x-4), ylim = (-50000,50000), xlim = (0,11),line_color='red', title = \"polinomio 5\")"
      ],
      "execution_count": 2,
      "outputs": [
        {
          "output_type": "stream",
          "text": [
            "/usr/local/lib/python3.6/dist-packages/sympy/plotting/plot.py:890: MatplotlibDeprecationWarning: \n",
            "The set_smart_bounds function was deprecated in Matplotlib 3.2 and will be removed two minor releases later.\n",
            "  self.ax.spines['left'].set_smart_bounds(True)\n",
            "/usr/local/lib/python3.6/dist-packages/sympy/plotting/plot.py:891: MatplotlibDeprecationWarning: \n",
            "The set_smart_bounds function was deprecated in Matplotlib 3.2 and will be removed two minor releases later.\n",
            "  self.ax.spines['bottom'].set_smart_bounds(False)\n"
          ],
          "name": "stderr"
        },
        {
          "output_type": "display_data",
          "data": {
            "image/png": "[encoded data removed]",
            "text/plain": [
              "<Figure size 432x288 with 1 Axes>"
            ]
          },
          "metadata": {
            "tags": [],
            "needs_background": "light"
          }
        },
        {
          "output_type": "display_data",
          "data": {
            "image/png": "[encoded data removed]",
            "text/plain": [
              "<Figure size 432x288 with 1 Axes>"
            ]
          },
          "metadata": {
            "tags": [],
            "needs_background": "light"
          }
        },
        {
          "output_type": "display_data",
          "data": {
            "image/png": "[encoded data removed]",
            "text/plain": [
              "<Figure size 432x288 with 1 Axes>"
            ]
          },
          "metadata": {
            "tags": [],
            "needs_background": "light"
          }
        },
        {
          "output_type": "display_data",
          "data": {
            "image/png": "[encoded data removed]",
            "text/plain": [
              "<Figure size 432x288 with 1 Axes>"
            ]
          },
          "metadata": {
            "tags": [],
            "needs_background": "light"
          }
        },
        {
          "output_type": "display_data",
          "data": {
            "image/png": "[encoded data removed]",
            "text/plain": [
              "<Figure size 432x288 with 1 Axes>"
            ]
          },
          "metadata": {
            "tags": [],
            "needs_background": "light"
          }
        },
        {
          "output_type": "execute_result",
          "data": {
            "text/plain": [
              "<sympy.plotting.plot.Plot at 0x7f155f991f28>"
            ]
          },
          "metadata": {
            "tags": []
          },
          "execution_count": 2
        }
      ]
    },
    {
      "cell_type": "markdown",
      "metadata": {
        "id": "LrP1xT6VKZrE"
      },
      "source": [
        "## SymPy’s polynomial simple univariate polynomial factorization\n",
        "- https://docs.sympy.org/latest/modules/polys/wester.html#simple-univariate-polynomial-factorization\n",
        "- factor(x^10 - 55 x^9 + 1320 x^8 - 18150 x^7 + 157773 x^6 - 902055 x^5 + 3416930 x^4 - 8409500 x^3 + 12753576 x^2 - 10628640 x + 3628800)"
      ]
    },
    {
      "cell_type": "markdown",
      "metadata": {
        "id": "odl5H2C8akfu"
      },
      "source": [
        "<img src=\"https://raw.githubusercontent.com/tvcastillod/AlgorithmsUN2020II/master/SymPyLab/sympylabwolfram3.png\" />"
      ]
    },
    {
      "cell_type": "code",
      "metadata": {
        "id": "i2vHjXOIKvQu",
        "outputId": "25c6609e-700c-4e39-a7da-28d83908f581",
        "colab": {
          "base_uri": "https://localhost:8080/"
        }
      },
      "source": [
        "from sympy import *\n",
        "x = Symbol('x')\n",
        "factor(x**10 - 55*x**9 + 1320*x**8 - 18150*x**7 + 157773*x**6 - 902055*x**5 + 3416930*x**4 - 8409500*x**3 + 12753576*x**2 - 10628640*x + 3628800)"
      ],
      "execution_count": 3,
      "outputs": [
        {
          "output_type": "execute_result",
          "data": {
            "text/plain": [
              "(x - 10)*(x - 9)*(x - 8)*(x - 7)*(x - 6)*(x - 5)*(x - 4)*(x - 3)*(x - 2)*(x - 1)"
            ]
          },
          "metadata": {
            "tags": []
          },
          "execution_count": 3
        }
      ]
    },
    {
      "cell_type": "markdown",
      "metadata": {
        "id": "xoq8A5ipMdRa"
      },
      "source": [
        "## SymPy’s solvers\n",
        "- https://docs.sympy.org/latest/tutorial/solvers.html\n",
        "- (x\\*\\*10 - 55\\*x\\*\\*9 + 1320\\*x\\*\\*8 - 18150\\*x\\*\\*7 + 157773\\*x\\*\\*6 - 902055\\*x\\*\\*5 + 3416930\\*x\\*\\*4 - 8409500\\*x\\*\\*3 + 12753576\\*x\\*\\*2 - 10628640\\*x + 3628800) = 0\n",
        "\n",
        "\n",
        " "
      ]
    },
    {
      "cell_type": "markdown",
      "metadata": {
        "id": "q5aZQdX_aphk"
      },
      "source": [
        "<img src=\"https://raw.githubusercontent.com/tvcastillod/AlgorithmsUN2020II/master/SymPyLab/sympylabwolfram4.png\" />"
      ]
    },
    {
      "cell_type": "code",
      "metadata": {
        "id": "DLzUsS8YMlNK",
        "outputId": "33ee6663-4cc8-4075-b67d-181c60227ceb",
        "colab": {
          "base_uri": "https://localhost:8080/"
        }
      },
      "source": [
        "from sympy import *\n",
        "x = Symbol('x')\n",
        "solveset(Eq(x**10 - 55*x**9 + 1320*x**8 - 18150*x**7 + 157773*x**6 - 902055*x**5 + 3416930*x**4 - 8409500*x**3 + 12753576*x**2 - 10628640*x + 3628800), x)"
      ],
      "execution_count": 4,
      "outputs": [
        {
          "output_type": "execute_result",
          "data": {
            "text/plain": [
              "{1, 2, 3, 4, 5, 6, 7, 8, 9, 10}"
            ]
          },
          "metadata": {
            "tags": []
          },
          "execution_count": 4
        }
      ]
    },
    {
      "cell_type": "markdown",
      "metadata": {
        "id": "OtsxSwPmV3Vs"
      },
      "source": [
        "## SymPy’s Symbolic and Numerical Complex Evaluations\n",
        "- https://docs.sympy.org/latest/modules/evalf.html\n",
        "```\n",
        "x = -5*x1 + 15*I*x2\n",
        "y = 3*y1 + 9*I*y2\n",
        "z = -8*z1 - 4*I*z2\n",
        "```\n"
      ]
    },
    {
      "cell_type": "markdown",
      "metadata": {
        "id": "XxWt-AcaZxdp"
      },
      "source": [
        "<img src=\"https://raw.githubusercontent.com/tvcastillod/AlgorithmsUN2020II/master/SymPyLab/sympylabwolfram5.png\" />"
      ]
    },
    {
      "cell_type": "code",
      "metadata": {
        "id": "ENDQbfLGV31r",
        "outputId": "b778a527-8586-4f6e-edaf-3fb1e0472a8d",
        "colab": {
          "base_uri": "https://localhost:8080/"
        }
      },
      "source": [
        "from sympy import *\n",
        "x1, x2, y1, y2, z1, z2 = symbols(\"x1 x2 y1 y2 z1 z2\", real=True)  \n",
        "\n",
        "x = -5*x1 + 15*I*x2\n",
        "y = 3*y1 + 9*I*y2\n",
        "z = -8*z1 - 4*I*z2\n",
        "\n",
        "print(x*y*z)\n",
        "print(expand(x*y*z))\n",
        "print(expand((x*y)*z))\n",
        "print(expand(x*(y*z)))\n",
        "\n",
        "w = N(1/(sqrt(2) - 17*I), 25)  # aproximación de función N con 20 dígitos\n",
        "print('w=',w)"
      ],
      "execution_count": 5,
      "outputs": [
        {
          "output_type": "stream",
          "text": [
            "(-5*x1 + 15*I*x2)*(3*y1 + 9*I*y2)*(-8*z1 - 4*I*z2)\n",
            "120*x1*y1*z1 + 60*I*x1*y1*z2 + 360*I*x1*y2*z1 - 180*x1*y2*z2 - 360*I*x2*y1*z1 + 180*x2*y1*z2 + 1080*x2*y2*z1 + 540*I*x2*y2*z2\n",
            "120*x1*y1*z1 + 60*I*x1*y1*z2 + 360*I*x1*y2*z1 - 180*x1*y2*z2 - 360*I*x2*y1*z1 + 180*x2*y1*z2 + 1080*x2*y2*z1 + 540*I*x2*y2*z2\n",
            "120*x1*y1*z1 + 60*I*x1*y1*z2 + 360*I*x1*y2*z1 - 180*x1*y2*z2 - 360*I*x2*y1*z1 + 180*x2*y1*z2 + 1080*x2*y2*z1 + 540*I*x2*y2*z2\n",
            "w= 0.004859840420526099824060786 + 0.05841924398625429553264605*I\n"
          ],
          "name": "stdout"
        }
      ]
    },
    {
      "cell_type": "markdown",
      "metadata": {
        "id": "34c6tlW4JXJX"
      },
      "source": [
        "## SymPy’s integrals\n",
        "- https://docs.sympy.org/latest/modules/integrals/integrals.html\n",
        "- [risk-engineering.org](https://risk-engineering.org/notebook/monte-carlo-LHS.html)"
      ]
    },
    {
      "cell_type": "markdown",
      "metadata": {
        "id": "Uz8j617GmnMZ"
      },
      "source": [
        "\n",
        "\n",
        "Let’s start with a simple integration problem in 1D,\n",
        "\n",
        "$$\\int_0^1 e^x dx$$\n",
        " \n",
        "This is easy to solve analytically, and we can use the SymPy library in case you’ve forgotten how to resolve simple integrals."
      ]
    },
    {
      "cell_type": "code",
      "metadata": {
        "id": "8pLJWumKnJTT",
        "outputId": "4ebb023b-6dc4-4d57-b6d1-d2e9227873d8",
        "colab": {
          "base_uri": "https://localhost:8080/"
        }
      },
      "source": [
        "import sympy\n",
        "# we’ll save results using different methods in this data structure, called a dictionary\n",
        "result = {}  \n",
        "x = sympy.Symbol(\"x\")\n",
        "i = sympy.integrate(exp(x))\n",
        "print(i)\n",
        "result[\"analytical\"] = float(i.subs(x, 1) - i.subs(x, 0))\n",
        "print(\"Analytical result: {}\".format(result[\"analytical\"]))"
      ],
      "execution_count": 6,
      "outputs": [
        {
          "output_type": "stream",
          "text": [
            "exp(x)\n",
            "Analytical result: 1.7182818284590453\n"
          ],
          "name": "stdout"
        }
      ]
    },
    {
      "cell_type": "markdown",
      "metadata": {
        "id": "2bfmtl9iazVg"
      },
      "source": [
        "<img src=\"https://raw.githubusercontent.com/tvcastillod/AlgorithmsUN2020II/master/SymPyLab/sympylabwolfram6.png\" />"
      ]
    },
    {
      "cell_type": "markdown",
      "metadata": {
        "id": "_kDQHJrFnMah"
      },
      "source": [
        "**Integrating with Monte Carlo** \n",
        "[risk-engineering.org](https://risk-engineering.org/notebook/monte-carlo-LHS.html) \n",
        "\n",
        "We can estimate this integral using a standard Monte Carlo method, where we use the fact that the expectation of a random variable is related to its integral\n",
        "\n",
        "$$\\mathbb{E}(f(x)) = \\int_I f(x) dx $$\n",
        "\n",
        "We will sample a large number N of points in I and calculate their average, and multiply by the range over which we are integrating.\n",
        "\n",
        "<img src=\"https://raw.githubusercontent.com/tvcastillod/AlgorithmsUN2020II/master/SymPyLab/sympylabwolfram8.png\" />"
      ]
    },
    {
      "cell_type": "code",
      "metadata": {
        "id": "IAe87LwpFeXY",
        "outputId": "bbc67bd3-5274-4a7c-c38d-fd5d02a646a6",
        "colab": {
          "base_uri": "https://localhost:8080/"
        }
      },
      "source": [
        "import numpy\n",
        "N = 10_000\n",
        "accum = 0\n",
        "for i in range(N):\n",
        "    x = numpy.random.uniform(0, 3/2)\n",
        "    accum += exp(x)*sin(2*x)\n",
        "volume = 3/2\n",
        "result[\"MC\"] = volume * accum / float(N)\n",
        "print(\"Standard Monte Carlo result: {}\".format(result[\"MC\"]))"
      ],
      "execution_count": 7,
      "outputs": [
        {
          "output_type": "stream",
          "text": [
            "Standard Monte Carlo result: 2.29206408844883\n"
          ],
          "name": "stdout"
        }
      ]
    },
    {
      "cell_type": "code",
      "metadata": {
        "id": "tOPpWf2uoI1w",
        "outputId": "0cc1732a-e6f0-4a45-dbb0-4237254e3427",
        "colab": {
          "base_uri": "https://localhost:8080/"
        }
      },
      "source": [
        "import sympy\n",
        "x = Symbol(\"x\")\n",
        "i = integrate(exp(x)*sin(2*x))\n",
        "print(i)\n",
        "print(float(i.subs(x, 3/2) - i.subs(x, 0)))"
      ],
      "execution_count": 8,
      "outputs": [
        {
          "output_type": "stream",
          "text": [
            "exp(x)*sin(2*x)/5 - 2*exp(x)*cos(2*x)/5\n",
            "2.301226620237949\n"
          ],
          "name": "stdout"
        }
      ]
    },
    {
      "cell_type": "code",
      "metadata": {
        "id": "4E6DQ8b0po0I",
        "outputId": "45bd125e-3b4e-434c-da3f-5e704d214e22",
        "colab": {
          "base_uri": "https://localhost:8080/"
        }
      },
      "source": [
        "import numpy\n",
        "N = 10_000\n",
        "accum = 0\n",
        "l =[]\n",
        "for i in range(N):\n",
        "    x = numpy.random.uniform(0, 3/2)\n",
        "    accum += exp(x)*sin(2*x)\n",
        "volume = 3/2\n",
        "result[\"MC\"] = volume * accum / float(N)\n",
        "print(\"Standard Monte Carlo result: {}\".format(result[\"MC\"]))"
      ],
      "execution_count": 9,
      "outputs": [
        {
          "output_type": "stream",
          "text": [
            "Standard Monte Carlo result: 2.31338377379231\n"
          ],
          "name": "stdout"
        }
      ]
    },
    {
      "cell_type": "markdown",
      "metadata": {
        "id": "l362l5XHoILR"
      },
      "source": [
        "**A higher dimensional integral** [risk-engineering.org](https://risk-engineering.org/notebook/monte-carlo-LHS.html) \n",
        "\n",
        "\n",
        "Let us now analyze an integration problem in dimension 4, the Ishigami function. This is a well-known function in numerical optimization and stochastic analysis, because it is very highly non-linear.\n",
        "\n",
        "<img src=\"https://raw.githubusercontent.com/tvcastillod/AlgorithmsUN2020II/master/SymPyLab/sympylabwolfram9.png\" />"
      ]
    },
    {
      "cell_type": "code",
      "metadata": {
        "id": "krm2hdVoY8Tm",
        "outputId": "1627e945-d1fe-4548-e8bb-85e1a3993eac",
        "colab": {
          "base_uri": "https://localhost:8080/"
        }
      },
      "source": [
        "import sympy\n",
        "\n",
        "x1 = sympy.Symbol(\"x1\")\n",
        "x2 = sympy.Symbol(\"x2\")\n",
        "x3 = sympy.Symbol(\"x3\")\n",
        "expr = x1*x2*x3 + x3**2 - x1**5\n",
        "res = sympy.integrate(expr,\n",
        "                      (x1, 0, 1),\n",
        "                      (x2, 0, 2),\n",
        "                      (x3, 0, 3))\n",
        "# Note: we use float(res) to convert res from symbolic form to floating point form\n",
        "result = {} \n",
        "result[\"analytical\"] = float(res)\n",
        "print(\"Analytical result: {}\".format(result[\"analytical\"]))"
      ],
      "execution_count": 10,
      "outputs": [
        {
          "output_type": "stream",
          "text": [
            "Analytical result: 21.5\n"
          ],
          "name": "stdout"
        }
      ]
    },
    {
      "cell_type": "code",
      "metadata": {
        "id": "GWraXqA0a0I1",
        "outputId": "a1fa0b4a-6f7a-4dd6-b75e-eef30a425405",
        "colab": {
          "base_uri": "https://localhost:8080/"
        }
      },
      "source": [
        "N = 100_000\n",
        "accum = 0\n",
        "for i in range(N):\n",
        "    xx1 = numpy.random.uniform(0,1)\n",
        "    xx2 = numpy.random.uniform(0,2)\n",
        "    xx3 = numpy.random.uniform(0,3)\n",
        "    accum += (xx1*xx2*xx3 + xx3**2 - xx1**5)\n",
        "volume = 6 #(2 * numpy.pi)**3\n",
        "result = {} \n",
        "result[\"MC\"] = volume * accum / float(N)\n",
        "print(\"Standard Monte Carlo result: {}\".format(result[\"MC\"]))"
      ],
      "execution_count": 11,
      "outputs": [
        {
          "output_type": "stream",
          "text": [
            "Standard Monte Carlo result: 21.433770924722314\n"
          ],
          "name": "stdout"
        }
      ]
    },
    {
      "cell_type": "code",
      "metadata": {
        "id": "GEVLchJtbgdN"
      },
      "source": [
        "import math\n",
        "import numpy\n",
        "# adapted from https://mail.scipy.org/pipermail/scipy-user/2013-June/034744.html\n",
        "def halton(dim: int, nbpts: int):\n",
        "    h = numpy.full(nbpts * dim, numpy.nan)\n",
        "    p = numpy.full(nbpts, numpy.nan)\n",
        "    P = [2, 3, 5, 7, 11, 13, 17, 19, 23, 29, 31]\n",
        "    lognbpts = math.log(nbpts + 1)\n",
        "    for i in range(dim):\n",
        "        b = P[i]\n",
        "        n = int(math.ceil(lognbpts / math.log(b)))\n",
        "        for t in range(n):\n",
        "            p[t] = pow(b, -(t + 1))\n",
        "\n",
        "        for j in range(nbpts):\n",
        "            d = j + 1\n",
        "            sum_ = math.fmod(d, b) * p[0]\n",
        "            for t in range(1, n):\n",
        "                d = math.floor(d / b)\n",
        "                sum_ += math.fmod(d, b) * p[t]\n",
        "\n",
        "            h[j*dim + i] = sum_\n",
        "    return h.reshape(nbpts, dim)"
      ],
      "execution_count": 12,
      "outputs": []
    },
    {
      "cell_type": "code",
      "metadata": {
        "id": "icR0xmtacj7h",
        "outputId": "955cdf1a-d243-4c2b-c60e-bd3b04d9d6b3",
        "colab": {
          "base_uri": "https://localhost:8080/",
          "height": 335
        }
      },
      "source": [
        "import matplotlib.pyplot as plt\n",
        "import random\n",
        "N = 1000\n",
        "seq = halton(2, N)\n",
        "plt.title(\"2D Halton sequence\")\n",
        "# Note: we use \"alpha=0.5\" in the scatterplot so that the plotted points are semi-transparent\n",
        "# (alpha-transparency of 0.5 out of 1), so that we can see when any points are superimposed.\n",
        "plt.axes().set_aspect('equal')\n",
        "plt.scatter(seq[:,0], seq[:,1], marker=\".\", alpha=0.5);"
      ],
      "execution_count": 13,
      "outputs": [
        {
          "output_type": "stream",
          "text": [
            "/usr/local/lib/python3.6/dist-packages/ipykernel_launcher.py:8: MatplotlibDeprecationWarning: Adding an axes using the same arguments as a previous axes currently reuses the earlier instance.  In a future version, a new instance will always be created and returned.  Meanwhile, this warning can be suppressed, and the future behavior ensured, by passing a unique label to each axes instance.\n",
            "  \n"
          ],
          "name": "stderr"
        },
        {
          "output_type": "display_data",
          "data": {
            "image/png": "[encoded data removed]",
            "text/plain": [
              "<Figure size 432x288 with 1 Axes>"
            ]
          },
          "metadata": {
            "tags": [],
            "needs_background": "light"
          }
        }
      ]
    },
    {
      "cell_type": "code",
      "metadata": {
        "id": "OPhHs-WqbMmk",
        "outputId": "d3c753d1-1a33-40f9-8b63-3db7458bffcc",
        "colab": {
          "base_uri": "https://localhost:8080/"
        }
      },
      "source": [
        "N = 10_000\n",
        "\n",
        "seq = halton(3, N)\n",
        "accum = 0\n",
        "for i in range(N):\n",
        "    xx1 = seq[i][0] * 1\n",
        "    xx2 = seq[i][1] * 2\n",
        "    xx3 = seq[i][2] * 3\n",
        "    accum += xx1*xx2*xx3 + xx3**2 - xx1**5\n",
        "volume = 6 \n",
        "result = {} \n",
        "result[\"MC\"] = volume * accum / float(N)\n",
        "print(\"Qausi Monte Carlo Halton Sequence result: {}\".format(result[\"MC\"]))"
      ],
      "execution_count": 14,
      "outputs": [
        {
          "output_type": "stream",
          "text": [
            "Qausi Monte Carlo Halton Sequence result: 21.488532637835007\n"
          ],
          "name": "stdout"
        }
      ]
    },
    {
      "cell_type": "markdown",
      "metadata": {
        "id": "eaqIgmnkPNVT"
      },
      "source": [
        "## Wolfram alpha answers question in natural languaje\n",
        "- what is the circumference of the earth\n",
        "\n",
        "<img src=\"https://raw.githubusercontent.com/tvcastillod/AlgorithmsUN2020II/master/SymPyLab/sympylabwolfram7.png\" />\n",
        "\n"
      ]
    }
  ]
}